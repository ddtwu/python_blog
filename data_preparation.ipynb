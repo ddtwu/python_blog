{
 "cells": [
  {
   "cell_type": "code",
   "execution_count": 30,
   "metadata": {},
   "outputs": [],
   "source": [
    "import polars as pl"
   ]
  },
  {
   "cell_type": "markdown",
   "metadata": {},
   "source": [
    "# E-commerce Business Transaction\n",
    "https://www.kaggle.com/datasets/gabrielramos87/an-online-shop-business/data\n"
   ]
  },
  {
   "cell_type": "code",
   "execution_count": 31,
   "metadata": {},
   "outputs": [
    {
     "name": "stdout",
     "output_type": "stream",
     "text": [
      "Rows: 536350\n",
      "Columns: 8\n",
      "$ TransactionNo <str> '581482', '581475', '581475', '581475', '581475', '581475', '581475', '581475', '581475', '581475'\n",
      "$ Date          <str> '12/9/2019', '12/9/2019', '12/9/2019', '12/9/2019', '12/9/2019', '12/9/2019', '12/9/2019', '12/9/2019', '12/9/2019', '12/9/2019'\n",
      "$ ProductNo     <str> '22485', '22596', '23235', '23272', '23239', '21705', '22118', '22119', '22217', '22216'\n",
      "$ ProductName   <str> 'Set Of 2 Wooden Market Crates', 'Christmas Star Wish List Chalkboard', 'Storage Tin Vintage Leaf', 'Tree T-Light Holder Willie Winkie', 'Set Of 4 Knick Knack Tins Poppies', 'Bag 500g Swirly Marbles', 'Joy Wooden Block Letters', 'Peace Wooden Block Letters', 'T-Light Holder Hanging Lace', 'T-Light Holder White Lace'\n",
      "$ Price         <str> '21.47', '10.65', '11.53', '10.65', '11.94', '10.65', '11.53', '12.25', '10.65', '10.55'\n",
      "$ Quantity      <str> '12', '36', '12', '12', '6', '24', '18', '12', '12', '24'\n",
      "$ CustomerNo    <str> '17490', '13069', '13069', '13069', '13069', '13069', '13069', '13069', '13069', '13069'\n",
      "$ Country       <str> 'United Kingdom', 'United Kingdom', 'United Kingdom', 'United Kingdom', 'United Kingdom', 'United Kingdom', 'United Kingdom', 'United Kingdom', 'United Kingdom', 'United Kingdom'\n",
      "\n"
     ]
    }
   ],
   "source": [
    "raw_data = pl.read_csv('./Sales_Transaction_v4a.csv', infer_schema = False)\n",
    "raw_data.glimpse()"
   ]
  },
  {
   "cell_type": "markdown",
   "metadata": {},
   "source": [
    "## Data Transformation"
   ]
  },
  {
   "cell_type": "code",
   "execution_count": null,
   "metadata": {},
   "outputs": [],
   "source": [
    "main_data = (\n",
    "    raw_data\n",
    "    .select(\n",
    "        pl.col('TransactionNo').str.strip_chars().alias('txn_id'),\n",
    "        pl.col('Date').str.to_date(format = \"%m/%d/%Y\").alias('txndate'),\n",
    "        pl.col('ProductNo').str.strip_chars().alias('pid'),\n",
    "        pl.col('ProductName').str.strip_chars().alias('pname'),\n",
    "        pl.col('Price').cast(pl.Float64).alias('price'),\n",
    "        pl.col('Quantity').cast(pl.Int64).alias('quantity'),\n",
    "        pl.col('CustomerNo').str.strip_chars().alias('cust_id'),\n",
    "        pl.col('Country').str.strip_chars().alias('country')\n",
    "    )\n",
    "    .with_columns(\n",
    "        payment = pl.col('price') * pl.col('quantity')\n",
    "    )\n",
    ")"
   ]
  },
  {
   "cell_type": "markdown",
   "metadata": {},
   "source": [
    "## Data Aggregation and Cleansing"
   ]
  },
  {
   "cell_type": "code",
   "execution_count": null,
   "metadata": {},
   "outputs": [],
   "source": [
    "# remove the cust_id == \"NA\"\n",
    "main_data.group_by('cust_id').len().sort(by = 'cust_id')\n",
    "\n",
    "main_data= (\n",
    "    main_data\n",
    "    .filter(pl.col('cust_id') != \"NA\")\n",
    ")"
   ]
  },
  {
   "cell_type": "code",
   "execution_count": 34,
   "metadata": {},
   "outputs": [],
   "source": [
    "# remove the order which has total_amount less than 0\n",
    "main_data = (\n",
    "    main_data\n",
    "    .with_columns(\n",
    "        sum_payment = pl.col('payment').sum().over(partition_by = ['txn_id', 'cust_id', 'txndate'])\n",
    "    )\n",
    "    .filter(pl.col('sum_payment') > 0)\n",
    "    .drop('sum_payment')\n",
    ")"
   ]
  },
  {
   "cell_type": "code",
   "execution_count": 35,
   "metadata": {},
   "outputs": [],
   "source": [
    "# aggregation by member, date\n",
    "agg_daily = (\n",
    "    main_data\n",
    "    .group_by('cust_id', 'txndate')\n",
    "    .agg(\n",
    "        # sum_price = (pl.col('price') * pl.col('quantity')).sum(),\n",
    "        sum_pay = pl.col('payment').sum(),\n",
    "        sum_cart = pl.col('txn_id').n_unique()\n",
    "    )\n",
    "    .sort(by = ['cust_id', 'txndate'])\n",
    "    .with_columns(\n",
    "        # sum_discnt = pl.col('sum_price') - pl.col('sum_pay'),\n",
    "        gap = (pl.col('txndate') - pl.col('txndate').shift(n = 1).over(partition_by = ['cust_id'], order_by = ['txndate'])).dt.total_days(),\n",
    "        rev_gap = (pl.col('txndate').shift(n = -1).over(partition_by = ['cust_id'], order_by = ['txndate']) - pl.col('txndate')).dt.total_days(),\n",
    "        seq = pl.col('txndate').rank(descending = False).over(partition_by = 'cust_id').cast(pl.Int64),\n",
    "        rev_seq = pl.col('txndate').rank(descending = True).over(partition_by = 'cust_id').cast(pl.Int64)\n",
    "    )\n",
    ")"
   ]
  },
  {
   "cell_type": "code",
   "execution_count": 36,
   "metadata": {},
   "outputs": [],
   "source": [
    "# aggregation by member\n",
    "agg_uid = (\n",
    "    agg_daily\n",
    "    .group_by('cust_id')\n",
    "    .agg(\n",
    "        min_date = pl.col('txndate').min(),\n",
    "        max_date = pl.col('txndate').max(),\n",
    "        n_days = pl.col('txndate').len(),\n",
    "        sum_pay = pl.col('sum_pay').sum(),\n",
    "        sum_cart = pl.col('sum_cart').sum(),\n",
    "    )\n",
    "    .with_columns(\n",
    "        rep_count = pl.col('n_days') - 1,\n",
    "        gap_mean = ((pl.col('max_date') - pl.col('min_date')).dt.total_days()) / (pl.col('n_days') - 1),\n",
    "    )\n",
    "    .with_columns(pl.col('gap_mean').fill_nan(value = pl.lit(None)))\n",
    ")"
   ]
  },
  {
   "cell_type": "markdown",
   "metadata": {},
   "source": [
    "## Export"
   ]
  },
  {
   "cell_type": "code",
   "execution_count": 37,
   "metadata": {},
   "outputs": [],
   "source": [
    "main_data.write_csv(\"./Sales_Transaction_v4a/main.csv\")\n",
    "agg_daily.write_csv(\"./Sales_Transaction_v4a/agg_daily.csv\")\n",
    "agg_uid.write_csv(\"./Sales_Transaction_v4a/agg_uid.csv\")"
   ]
  },
  {
   "cell_type": "markdown",
   "metadata": {},
   "source": [
    "---"
   ]
  },
  {
   "cell_type": "markdown",
   "metadata": {},
   "source": [
    "# Another Dataset Name"
   ]
  },
  {
   "cell_type": "markdown",
   "metadata": {},
   "source": []
  }
 ],
 "metadata": {
  "kernelspec": {
   "display_name": ".venv",
   "language": "python",
   "name": "python3"
  },
  "language_info": {
   "codemirror_mode": {
    "name": "ipython",
    "version": 3
   },
   "file_extension": ".py",
   "mimetype": "text/x-python",
   "name": "python",
   "nbconvert_exporter": "python",
   "pygments_lexer": "ipython3",
   "version": "3.11.9"
  }
 },
 "nbformat": 4,
 "nbformat_minor": 2
}
