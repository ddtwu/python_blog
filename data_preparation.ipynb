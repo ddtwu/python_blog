{
 "cells": [
  {
   "cell_type": "code",
   "execution_count": 30,
   "metadata": {},
   "outputs": [],
   "source": [
    "import polars as pl\n"
   ]
  },
  {
   "cell_type": "markdown",
   "metadata": {},
   "source": [
    "# E-commerce Business Transaction\n",
    "https://www.kaggle.com/datasets/gabrielramos87/an-online-shop-business/data\n"
   ]
  },
  {
   "cell_type": "code",
   "execution_count": 31,
   "metadata": {},
   "outputs": [
    {
     "name": "stdout",
     "output_type": "stream",
     "text": [
      "Rows: 536350\n",
      "Columns: 8\n",
      "$ TransactionNo <str> '581482', '581475', '581475', '581475', '581475', '581475', '581475', '581475', '581475', '581475'\n",
      "$ Date          <str> '12/9/2019', '12/9/2019', '12/9/2019', '12/9/2019', '12/9/2019', '12/9/2019', '12/9/2019', '12/9/2019', '12/9/2019', '12/9/2019'\n",
      "$ ProductNo     <str> '22485', '22596', '23235', '23272', '23239', '21705', '22118', '22119', '22217', '22216'\n",
      "$ ProductName   <str> 'Set Of 2 Wooden Market Crates', 'Christmas Star Wish List Chalkboard', 'Storage Tin Vintage Leaf', 'Tree T-Light Holder Willie Winkie', 'Set Of 4 Knick Knack Tins Poppies', 'Bag 500g Swirly Marbles', 'Joy Wooden Block Letters', 'Peace Wooden Block Letters', 'T-Light Holder Hanging Lace', 'T-Light Holder White Lace'\n",
      "$ Price         <str> '21.47', '10.65', '11.53', '10.65', '11.94', '10.65', '11.53', '12.25', '10.65', '10.55'\n",
      "$ Quantity      <str> '12', '36', '12', '12', '6', '24', '18', '12', '12', '24'\n",
      "$ CustomerNo    <str> '17490', '13069', '13069', '13069', '13069', '13069', '13069', '13069', '13069', '13069'\n",
      "$ Country       <str> 'United Kingdom', 'United Kingdom', 'United Kingdom', 'United Kingdom', 'United Kingdom', 'United Kingdom', 'United Kingdom', 'United Kingdom', 'United Kingdom', 'United Kingdom'\n",
      "\n"
     ]
    }
   ],
   "source": [
    "raw_data = pl.read_csv('./Sales_Transaction_v4a.csv', infer_schema = False)\n",
    "raw_data.glimpse()"
   ]
  },
  {
   "cell_type": "markdown",
   "metadata": {},
   "source": [
    "## Data Transformation"
   ]
  },
  {
   "cell_type": "code",
   "execution_count": 32,
   "metadata": {},
   "outputs": [
    {
     "data": {
      "text/html": [
       "<div><style>\n",
       ".dataframe > thead > tr,\n",
       ".dataframe > tbody > tr {\n",
       "  text-align: right;\n",
       "  white-space: pre-wrap;\n",
       "}\n",
       "</style>\n",
       "<small>shape: (536_350, 9)</small><table border=\"1\" class=\"dataframe\"><thead><tr><th>txn_id</th><th>txndate</th><th>pid</th><th>pname</th><th>price</th><th>quantity</th><th>cust_id</th><th>country</th><th>payment</th></tr><tr><td>str</td><td>date</td><td>str</td><td>str</td><td>f64</td><td>i64</td><td>str</td><td>str</td><td>f64</td></tr></thead><tbody><tr><td>&quot;581482&quot;</td><td>2019-12-09</td><td>&quot;22485&quot;</td><td>&quot;Set Of 2 Wooden Market Crates&quot;</td><td>21.47</td><td>12</td><td>&quot;17490&quot;</td><td>&quot;United Kingdom&quot;</td><td>257.64</td></tr><tr><td>&quot;581475&quot;</td><td>2019-12-09</td><td>&quot;22596&quot;</td><td>&quot;Christmas Star Wish List Chalk…</td><td>10.65</td><td>36</td><td>&quot;13069&quot;</td><td>&quot;United Kingdom&quot;</td><td>383.4</td></tr><tr><td>&quot;581475&quot;</td><td>2019-12-09</td><td>&quot;23235&quot;</td><td>&quot;Storage Tin Vintage Leaf&quot;</td><td>11.53</td><td>12</td><td>&quot;13069&quot;</td><td>&quot;United Kingdom&quot;</td><td>138.36</td></tr><tr><td>&quot;581475&quot;</td><td>2019-12-09</td><td>&quot;23272&quot;</td><td>&quot;Tree T-Light Holder Willie Win…</td><td>10.65</td><td>12</td><td>&quot;13069&quot;</td><td>&quot;United Kingdom&quot;</td><td>127.8</td></tr><tr><td>&quot;581475&quot;</td><td>2019-12-09</td><td>&quot;23239&quot;</td><td>&quot;Set Of 4 Knick Knack Tins Popp…</td><td>11.94</td><td>6</td><td>&quot;13069&quot;</td><td>&quot;United Kingdom&quot;</td><td>71.64</td></tr><tr><td>&hellip;</td><td>&hellip;</td><td>&hellip;</td><td>&hellip;</td><td>&hellip;</td><td>&hellip;</td><td>&hellip;</td><td>&hellip;</td><td>&hellip;</td></tr><tr><td>&quot;C536548&quot;</td><td>2018-12-01</td><td>&quot;22168&quot;</td><td>&quot;Organiser Wood Antique White&quot;</td><td>18.96</td><td>-2</td><td>&quot;12472&quot;</td><td>&quot;Germany&quot;</td><td>-37.92</td></tr><tr><td>&quot;C536548&quot;</td><td>2018-12-01</td><td>&quot;21218&quot;</td><td>&quot;Red Spotty Biscuit Tin&quot;</td><td>14.09</td><td>-3</td><td>&quot;12472&quot;</td><td>&quot;Germany&quot;</td><td>-42.27</td></tr><tr><td>&quot;C536548&quot;</td><td>2018-12-01</td><td>&quot;20957&quot;</td><td>&quot;Porcelain Hanging Bell Small&quot;</td><td>11.74</td><td>-1</td><td>&quot;12472&quot;</td><td>&quot;Germany&quot;</td><td>-11.74</td></tr><tr><td>&quot;C536548&quot;</td><td>2018-12-01</td><td>&quot;22580&quot;</td><td>&quot;Advent Calendar Gingham Sack&quot;</td><td>16.35</td><td>-4</td><td>&quot;12472&quot;</td><td>&quot;Germany&quot;</td><td>-65.4</td></tr><tr><td>&quot;C536548&quot;</td><td>2018-12-01</td><td>&quot;22767&quot;</td><td>&quot;Triple Photo Frame Cornice&quot;</td><td>20.45</td><td>-2</td><td>&quot;12472&quot;</td><td>&quot;Germany&quot;</td><td>-40.9</td></tr></tbody></table></div>"
      ],
      "text/plain": [
       "shape: (536_350, 9)\n",
       "┌─────────┬────────────┬───────┬──────────────────────┬───┬──────────┬─────────┬─────────┬─────────┐\n",
       "│ txn_id  ┆ txndate    ┆ pid   ┆ pname                ┆ … ┆ quantity ┆ cust_id ┆ country ┆ payment │\n",
       "│ ---     ┆ ---        ┆ ---   ┆ ---                  ┆   ┆ ---      ┆ ---     ┆ ---     ┆ ---     │\n",
       "│ str     ┆ date       ┆ str   ┆ str                  ┆   ┆ i64      ┆ str     ┆ str     ┆ f64     │\n",
       "╞═════════╪════════════╪═══════╪══════════════════════╪═══╪══════════╪═════════╪═════════╪═════════╡\n",
       "│ 581482  ┆ 2019-12-09 ┆ 22485 ┆ Set Of 2 Wooden      ┆ … ┆ 12       ┆ 17490   ┆ United  ┆ 257.64  │\n",
       "│         ┆            ┆       ┆ Market Crates        ┆   ┆          ┆         ┆ Kingdom ┆         │\n",
       "│ 581475  ┆ 2019-12-09 ┆ 22596 ┆ Christmas Star Wish  ┆ … ┆ 36       ┆ 13069   ┆ United  ┆ 383.4   │\n",
       "│         ┆            ┆       ┆ List Chalk…          ┆   ┆          ┆         ┆ Kingdom ┆         │\n",
       "│ 581475  ┆ 2019-12-09 ┆ 23235 ┆ Storage Tin Vintage  ┆ … ┆ 12       ┆ 13069   ┆ United  ┆ 138.36  │\n",
       "│         ┆            ┆       ┆ Leaf                 ┆   ┆          ┆         ┆ Kingdom ┆         │\n",
       "│ 581475  ┆ 2019-12-09 ┆ 23272 ┆ Tree T-Light Holder  ┆ … ┆ 12       ┆ 13069   ┆ United  ┆ 127.8   │\n",
       "│         ┆            ┆       ┆ Willie Win…          ┆   ┆          ┆         ┆ Kingdom ┆         │\n",
       "│ 581475  ┆ 2019-12-09 ┆ 23239 ┆ Set Of 4 Knick Knack ┆ … ┆ 6        ┆ 13069   ┆ United  ┆ 71.64   │\n",
       "│         ┆            ┆       ┆ Tins Popp…           ┆   ┆          ┆         ┆ Kingdom ┆         │\n",
       "│ …       ┆ …          ┆ …     ┆ …                    ┆ … ┆ …        ┆ …       ┆ …       ┆ …       │\n",
       "│ C536548 ┆ 2018-12-01 ┆ 22168 ┆ Organiser Wood       ┆ … ┆ -2       ┆ 12472   ┆ Germany ┆ -37.92  │\n",
       "│         ┆            ┆       ┆ Antique White        ┆   ┆          ┆         ┆         ┆         │\n",
       "│ C536548 ┆ 2018-12-01 ┆ 21218 ┆ Red Spotty Biscuit   ┆ … ┆ -3       ┆ 12472   ┆ Germany ┆ -42.27  │\n",
       "│         ┆            ┆       ┆ Tin                  ┆   ┆          ┆         ┆         ┆         │\n",
       "│ C536548 ┆ 2018-12-01 ┆ 20957 ┆ Porcelain Hanging    ┆ … ┆ -1       ┆ 12472   ┆ Germany ┆ -11.74  │\n",
       "│         ┆            ┆       ┆ Bell Small           ┆   ┆          ┆         ┆         ┆         │\n",
       "│ C536548 ┆ 2018-12-01 ┆ 22580 ┆ Advent Calendar      ┆ … ┆ -4       ┆ 12472   ┆ Germany ┆ -65.4   │\n",
       "│         ┆            ┆       ┆ Gingham Sack         ┆   ┆          ┆         ┆         ┆         │\n",
       "│ C536548 ┆ 2018-12-01 ┆ 22767 ┆ Triple Photo Frame   ┆ … ┆ -2       ┆ 12472   ┆ Germany ┆ -40.9   │\n",
       "│         ┆            ┆       ┆ Cornice              ┆   ┆          ┆         ┆         ┆         │\n",
       "└─────────┴────────────┴───────┴──────────────────────┴───┴──────────┴─────────┴─────────┴─────────┘"
      ]
     },
     "execution_count": 32,
     "metadata": {},
     "output_type": "execute_result"
    }
   ],
   "source": [
    "main_data = (\n",
    "    raw_data\n",
    "    .select(\n",
    "        pl.col('TransactionNo').str.strip_chars().alias('txn_id'),\n",
    "        pl.col('Date').str.to_date(format = \"%m/%d/%Y\").alias('txndate'),\n",
    "        pl.col('ProductNo').str.strip_chars().alias('pid'),\n",
    "        pl.col('ProductName').str.strip_chars().alias('pname'),\n",
    "        pl.col('Price').cast(pl.Float64).alias('price'),\n",
    "        pl.col('Quantity').cast(pl.Int64).alias('quantity'),\n",
    "        pl.col('CustomerNo').str.strip_chars().alias('cust_id'),\n",
    "        pl.col('Country').str.strip_chars().alias('country')\n",
    "    )\n",
    "    .with_columns(\n",
    "        payment = pl.col('price') * pl.col('quantity')\n",
    "    )\n",
    ")\n",
    "\n",
    "main_data"
   ]
  },
  {
   "cell_type": "markdown",
   "metadata": {},
   "source": [
    "## Data Aggregation and Cleansing"
   ]
  },
  {
   "cell_type": "code",
   "execution_count": 33,
   "metadata": {},
   "outputs": [
    {
     "data": {
      "text/html": [
       "<div><style>\n",
       ".dataframe > thead > tr,\n",
       ".dataframe > tbody > tr {\n",
       "  text-align: right;\n",
       "  white-space: pre-wrap;\n",
       "}\n",
       "</style>\n",
       "<small>shape: (536_295, 9)</small><table border=\"1\" class=\"dataframe\"><thead><tr><th>txn_id</th><th>txndate</th><th>pid</th><th>pname</th><th>price</th><th>quantity</th><th>cust_id</th><th>country</th><th>payment</th></tr><tr><td>str</td><td>date</td><td>str</td><td>str</td><td>f64</td><td>i64</td><td>str</td><td>str</td><td>f64</td></tr></thead><tbody><tr><td>&quot;581482&quot;</td><td>2019-12-09</td><td>&quot;22485&quot;</td><td>&quot;Set Of 2 Wooden Market Crates&quot;</td><td>21.47</td><td>12</td><td>&quot;17490&quot;</td><td>&quot;United Kingdom&quot;</td><td>257.64</td></tr><tr><td>&quot;581475&quot;</td><td>2019-12-09</td><td>&quot;22596&quot;</td><td>&quot;Christmas Star Wish List Chalk…</td><td>10.65</td><td>36</td><td>&quot;13069&quot;</td><td>&quot;United Kingdom&quot;</td><td>383.4</td></tr><tr><td>&quot;581475&quot;</td><td>2019-12-09</td><td>&quot;23235&quot;</td><td>&quot;Storage Tin Vintage Leaf&quot;</td><td>11.53</td><td>12</td><td>&quot;13069&quot;</td><td>&quot;United Kingdom&quot;</td><td>138.36</td></tr><tr><td>&quot;581475&quot;</td><td>2019-12-09</td><td>&quot;23272&quot;</td><td>&quot;Tree T-Light Holder Willie Win…</td><td>10.65</td><td>12</td><td>&quot;13069&quot;</td><td>&quot;United Kingdom&quot;</td><td>127.8</td></tr><tr><td>&quot;581475&quot;</td><td>2019-12-09</td><td>&quot;23239&quot;</td><td>&quot;Set Of 4 Knick Knack Tins Popp…</td><td>11.94</td><td>6</td><td>&quot;13069&quot;</td><td>&quot;United Kingdom&quot;</td><td>71.64</td></tr><tr><td>&hellip;</td><td>&hellip;</td><td>&hellip;</td><td>&hellip;</td><td>&hellip;</td><td>&hellip;</td><td>&hellip;</td><td>&hellip;</td><td>&hellip;</td></tr><tr><td>&quot;C536548&quot;</td><td>2018-12-01</td><td>&quot;22168&quot;</td><td>&quot;Organiser Wood Antique White&quot;</td><td>18.96</td><td>-2</td><td>&quot;12472&quot;</td><td>&quot;Germany&quot;</td><td>-37.92</td></tr><tr><td>&quot;C536548&quot;</td><td>2018-12-01</td><td>&quot;21218&quot;</td><td>&quot;Red Spotty Biscuit Tin&quot;</td><td>14.09</td><td>-3</td><td>&quot;12472&quot;</td><td>&quot;Germany&quot;</td><td>-42.27</td></tr><tr><td>&quot;C536548&quot;</td><td>2018-12-01</td><td>&quot;20957&quot;</td><td>&quot;Porcelain Hanging Bell Small&quot;</td><td>11.74</td><td>-1</td><td>&quot;12472&quot;</td><td>&quot;Germany&quot;</td><td>-11.74</td></tr><tr><td>&quot;C536548&quot;</td><td>2018-12-01</td><td>&quot;22580&quot;</td><td>&quot;Advent Calendar Gingham Sack&quot;</td><td>16.35</td><td>-4</td><td>&quot;12472&quot;</td><td>&quot;Germany&quot;</td><td>-65.4</td></tr><tr><td>&quot;C536548&quot;</td><td>2018-12-01</td><td>&quot;22767&quot;</td><td>&quot;Triple Photo Frame Cornice&quot;</td><td>20.45</td><td>-2</td><td>&quot;12472&quot;</td><td>&quot;Germany&quot;</td><td>-40.9</td></tr></tbody></table></div>"
      ],
      "text/plain": [
       "shape: (536_295, 9)\n",
       "┌─────────┬────────────┬───────┬──────────────────────┬───┬──────────┬─────────┬─────────┬─────────┐\n",
       "│ txn_id  ┆ txndate    ┆ pid   ┆ pname                ┆ … ┆ quantity ┆ cust_id ┆ country ┆ payment │\n",
       "│ ---     ┆ ---        ┆ ---   ┆ ---                  ┆   ┆ ---      ┆ ---     ┆ ---     ┆ ---     │\n",
       "│ str     ┆ date       ┆ str   ┆ str                  ┆   ┆ i64      ┆ str     ┆ str     ┆ f64     │\n",
       "╞═════════╪════════════╪═══════╪══════════════════════╪═══╪══════════╪═════════╪═════════╪═════════╡\n",
       "│ 581482  ┆ 2019-12-09 ┆ 22485 ┆ Set Of 2 Wooden      ┆ … ┆ 12       ┆ 17490   ┆ United  ┆ 257.64  │\n",
       "│         ┆            ┆       ┆ Market Crates        ┆   ┆          ┆         ┆ Kingdom ┆         │\n",
       "│ 581475  ┆ 2019-12-09 ┆ 22596 ┆ Christmas Star Wish  ┆ … ┆ 36       ┆ 13069   ┆ United  ┆ 383.4   │\n",
       "│         ┆            ┆       ┆ List Chalk…          ┆   ┆          ┆         ┆ Kingdom ┆         │\n",
       "│ 581475  ┆ 2019-12-09 ┆ 23235 ┆ Storage Tin Vintage  ┆ … ┆ 12       ┆ 13069   ┆ United  ┆ 138.36  │\n",
       "│         ┆            ┆       ┆ Leaf                 ┆   ┆          ┆         ┆ Kingdom ┆         │\n",
       "│ 581475  ┆ 2019-12-09 ┆ 23272 ┆ Tree T-Light Holder  ┆ … ┆ 12       ┆ 13069   ┆ United  ┆ 127.8   │\n",
       "│         ┆            ┆       ┆ Willie Win…          ┆   ┆          ┆         ┆ Kingdom ┆         │\n",
       "│ 581475  ┆ 2019-12-09 ┆ 23239 ┆ Set Of 4 Knick Knack ┆ … ┆ 6        ┆ 13069   ┆ United  ┆ 71.64   │\n",
       "│         ┆            ┆       ┆ Tins Popp…           ┆   ┆          ┆         ┆ Kingdom ┆         │\n",
       "│ …       ┆ …          ┆ …     ┆ …                    ┆ … ┆ …        ┆ …       ┆ …       ┆ …       │\n",
       "│ C536548 ┆ 2018-12-01 ┆ 22168 ┆ Organiser Wood       ┆ … ┆ -2       ┆ 12472   ┆ Germany ┆ -37.92  │\n",
       "│         ┆            ┆       ┆ Antique White        ┆   ┆          ┆         ┆         ┆         │\n",
       "│ C536548 ┆ 2018-12-01 ┆ 21218 ┆ Red Spotty Biscuit   ┆ … ┆ -3       ┆ 12472   ┆ Germany ┆ -42.27  │\n",
       "│         ┆            ┆       ┆ Tin                  ┆   ┆          ┆         ┆         ┆         │\n",
       "│ C536548 ┆ 2018-12-01 ┆ 20957 ┆ Porcelain Hanging    ┆ … ┆ -1       ┆ 12472   ┆ Germany ┆ -11.74  │\n",
       "│         ┆            ┆       ┆ Bell Small           ┆   ┆          ┆         ┆         ┆         │\n",
       "│ C536548 ┆ 2018-12-01 ┆ 22580 ┆ Advent Calendar      ┆ … ┆ -4       ┆ 12472   ┆ Germany ┆ -65.4   │\n",
       "│         ┆            ┆       ┆ Gingham Sack         ┆   ┆          ┆         ┆         ┆         │\n",
       "│ C536548 ┆ 2018-12-01 ┆ 22767 ┆ Triple Photo Frame   ┆ … ┆ -2       ┆ 12472   ┆ Germany ┆ -40.9   │\n",
       "│         ┆            ┆       ┆ Cornice              ┆   ┆          ┆         ┆         ┆         │\n",
       "└─────────┴────────────┴───────┴──────────────────────┴───┴──────────┴─────────┴─────────┴─────────┘"
      ]
     },
     "execution_count": 33,
     "metadata": {},
     "output_type": "execute_result"
    }
   ],
   "source": [
    "# remove the cust_id == \"NA\"\n",
    "main_data.group_by('cust_id').len().sort(by = 'cust_id')\n",
    "\n",
    "main_data= (\n",
    "    main_data\n",
    "    .filter(pl.col('cust_id') != \"NA\")\n",
    ")\n",
    "\n",
    "main_data"
   ]
  },
  {
   "cell_type": "code",
   "execution_count": 34,
   "metadata": {},
   "outputs": [],
   "source": [
    "# remove the order which has total_amount less than 0\n",
    "main_data = (\n",
    "    main_data\n",
    "    .with_columns(\n",
    "        sum_payment = pl.col('payment').sum().over(partition_by = ['txn_id', 'cust_id', 'txndate'])\n",
    "    )\n",
    "    .filter(pl.col('sum_payment') > 0)\n",
    "    .drop('sum_payment')\n",
    ")"
   ]
  },
  {
   "cell_type": "code",
   "execution_count": 35,
   "metadata": {},
   "outputs": [],
   "source": [
    "# aggregation by member, date\n",
    "agg_daily = (\n",
    "    main_data\n",
    "    .group_by('cust_id', 'txndate')\n",
    "    .agg(\n",
    "        # sum_price = (pl.col('price') * pl.col('quantity')).sum(),\n",
    "        sum_pay = pl.col('payment').sum(),\n",
    "        sum_cart = pl.col('txn_id').n_unique()\n",
    "    )\n",
    "    .sort(by = ['cust_id', 'txndate'])\n",
    "    .with_columns(\n",
    "        # sum_discnt = pl.col('sum_price') - pl.col('sum_pay'),\n",
    "        gap = (pl.col('txndate') - pl.col('txndate').shift(n = 1).over(partition_by = ['cust_id'], order_by = ['txndate'])).dt.total_days(),\n",
    "        rev_gap = (pl.col('txndate').shift(n = -1).over(partition_by = ['cust_id'], order_by = ['txndate']) - pl.col('txndate')).dt.total_days(),\n",
    "        seq = pl.col('txndate').rank(descending = False).over(partition_by = 'cust_id').cast(pl.Int64),\n",
    "        rev_seq = pl.col('txndate').rank(descending = True).over(partition_by = 'cust_id').cast(pl.Int64)\n",
    "    )\n",
    ")"
   ]
  },
  {
   "cell_type": "code",
   "execution_count": 36,
   "metadata": {},
   "outputs": [],
   "source": [
    "# aggregation by member\n",
    "agg_uid = (\n",
    "    agg_daily\n",
    "    .group_by('cust_id')\n",
    "    .agg(\n",
    "        min_date = pl.col('txndate').min(),\n",
    "        max_date = pl.col('txndate').max(),\n",
    "        n_days = pl.col('txndate').len(),\n",
    "        sum_pay = pl.col('sum_pay').sum(),\n",
    "        sum_cart = pl.col('sum_cart').sum(),\n",
    "    )\n",
    "    .with_columns(\n",
    "        rep_count = pl.col('n_days') - 1,\n",
    "        gap_mean = ((pl.col('max_date') - pl.col('min_date')).dt.total_days()) / (pl.col('n_days') - 1),\n",
    "    )\n",
    "    .with_columns(pl.col('gap_mean').fill_nan(value = pl.lit(None)))\n",
    ")"
   ]
  },
  {
   "cell_type": "markdown",
   "metadata": {},
   "source": [
    "## Export"
   ]
  },
  {
   "cell_type": "code",
   "execution_count": 37,
   "metadata": {},
   "outputs": [],
   "source": [
    "main_data.write_csv(\"./Sales_Transaction_v4a/main.csv\")\n",
    "agg_daily.write_csv(\"./Sales_Transaction_v4a/agg_daily.csv\")\n",
    "agg_uid.write_csv(\"./Sales_Transaction_v4a/agg_uid.csv\")"
   ]
  },
  {
   "cell_type": "markdown",
   "metadata": {},
   "source": [
    "---"
   ]
  },
  {
   "cell_type": "markdown",
   "metadata": {},
   "source": [
    "# Another Dataset Name"
   ]
  },
  {
   "cell_type": "markdown",
   "metadata": {},
   "source": []
  }
 ],
 "metadata": {
  "kernelspec": {
   "display_name": ".venv",
   "language": "python",
   "name": "python3"
  },
  "language_info": {
   "codemirror_mode": {
    "name": "ipython",
    "version": 3
   },
   "file_extension": ".py",
   "mimetype": "text/x-python",
   "name": "python",
   "nbconvert_exporter": "python",
   "pygments_lexer": "ipython3",
   "version": "3.11.9"
  }
 },
 "nbformat": 4,
 "nbformat_minor": 2
}
