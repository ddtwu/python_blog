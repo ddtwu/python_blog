{
 "cells": [
  {
   "cell_type": "markdown",
   "metadata": {},
   "source": [
    "# __Categorize a continuous variable__\n",
    "> * Here is a quick and scalable way to categorize a continuous variable into different levels.  \n",
    "> * We use a method called **continuous-mean** to find the cut points by input column. There's no need to use hardcode settings.\n",
    "> * The process is data-driven and easy to apply. However, domain experts must still review and revise the naive results if necessary."
   ]
  },
  {
   "cell_type": "markdown",
   "metadata": {},
   "source": [
    "<iframe src=\"https://docs.google.com/presentation/d/1hJ02ZPlP4rY62HzJrLNIDnwAWSWaeTxbuwerU2kwr-8/embed?start=false&slide=1＆loop=false&delayms=3000\" frameborder=\"0\" width=\"960\" height=\"569\" allowfullscreen=\"true\" mozallowfullscreen=\"true\" webkitallowfullscreen=\"true\"></iframe>"
   ]
  },
  {
   "cell_type": "markdown",
   "metadata": {},
   "source": [
    "## Import sample data\n",
    "Data source: Kaggle, https://www.kaggle.com/datasets/gabrielramos87/an-online-shop-business/data\n"
   ]
  },
  {
   "cell_type": "code",
   "execution_count": 7,
   "metadata": {},
   "outputs": [
    {
     "data": {
      "text/html": [
       "<div><style>\n",
       ".dataframe > thead > tr,\n",
       ".dataframe > tbody > tr {\n",
       "  text-align: right;\n",
       "  white-space: pre-wrap;\n",
       "}\n",
       "</style>\n",
       "<small>shape: (4_718, 2)</small><table border=\"1\" class=\"dataframe\"><thead><tr><th>cust_id</th><th>number-of-active-days</th></tr><tr><td>i64</td><td>i64</td></tr></thead><tbody><tr><td>15421</td><td>3</td></tr><tr><td>12534</td><td>1</td></tr><tr><td>14739</td><td>8</td></tr><tr><td>12789</td><td>1</td></tr><tr><td>14215</td><td>6</td></tr><tr><td>&hellip;</td><td>&hellip;</td></tr><tr><td>12436</td><td>1</td></tr><tr><td>14877</td><td>1</td></tr><tr><td>16532</td><td>3</td></tr><tr><td>12640</td><td>4</td></tr><tr><td>17835</td><td>3</td></tr></tbody></table></div>"
      ],
      "text/plain": [
       "shape: (4_718, 2)\n",
       "┌─────────┬───────────────────────┐\n",
       "│ cust_id ┆ number-of-active-days │\n",
       "│ ---     ┆ ---                   │\n",
       "│ i64     ┆ i64                   │\n",
       "╞═════════╪═══════════════════════╡\n",
       "│ 15421   ┆ 3                     │\n",
       "│ 12534   ┆ 1                     │\n",
       "│ 14739   ┆ 8                     │\n",
       "│ 12789   ┆ 1                     │\n",
       "│ 14215   ┆ 6                     │\n",
       "│ …       ┆ …                     │\n",
       "│ 12436   ┆ 1                     │\n",
       "│ 14877   ┆ 1                     │\n",
       "│ 16532   ┆ 3                     │\n",
       "│ 12640   ┆ 4                     │\n",
       "│ 17835   ┆ 3                     │\n",
       "└─────────┴───────────────────────┘"
      ]
     },
     "execution_count": 7,
     "metadata": {},
     "output_type": "execute_result"
    }
   ],
   "source": [
    "import polars as pl\n",
    "import seaborn as sb\n",
    "import matplotlib.pyplot as plt\n",
    "\n",
    "agg_uid = pl.read_csv(\"../data_source/kaggle_data/Sales_Transaction_v4a/agg_uid.csv\", try_parse_dates = True)\n",
    "agg_uid.select('cust_id', 'n_days').rename({\"n_days\": \"number-of-active-days\"})"
   ]
  },
  {
   "cell_type": "markdown",
   "metadata": {},
   "source": [
    "## Quick Check\n",
    "We've aggregated the total number of active days by each member. The distribution is right-skew. Over **75%** of members' active days are under **4** days, and many members just purchase **1** to **2** times. This is a classic scenario when we analyze customer behavior data."
   ]
  },
  {
   "cell_type": "code",
   "execution_count": 8,
   "metadata": {},
   "outputs": [
    {
     "data": {
      "text/html": [
       "<div><style>\n",
       ".dataframe > thead > tr,\n",
       ".dataframe > tbody > tr {\n",
       "  text-align: right;\n",
       "  white-space: pre-wrap;\n",
       "}\n",
       "</style>\n",
       "<small>shape: (9, 2)</small><table border=\"1\" class=\"dataframe\"><thead><tr><th>statistic</th><th>number-of-active-days</th></tr><tr><td>str</td><td>f64</td></tr></thead><tbody><tr><td>&quot;count&quot;</td><td>4718.0</td></tr><tr><td>&quot;null_count&quot;</td><td>0.0</td></tr><tr><td>&quot;mean&quot;</td><td>3.826621</td></tr><tr><td>&quot;std&quot;</td><td>5.752403</td></tr><tr><td>&quot;min&quot;</td><td>1.0</td></tr><tr><td>&quot;25%&quot;</td><td>1.0</td></tr><tr><td>&quot;50%&quot;</td><td>2.0</td></tr><tr><td>&quot;75%&quot;</td><td>4.0</td></tr><tr><td>&quot;max&quot;</td><td>130.0</td></tr></tbody></table></div>"
      ],
      "text/plain": [
       "shape: (9, 2)\n",
       "┌────────────┬───────────────────────┐\n",
       "│ statistic  ┆ number-of-active-days │\n",
       "│ ---        ┆ ---                   │\n",
       "│ str        ┆ f64                   │\n",
       "╞════════════╪═══════════════════════╡\n",
       "│ count      ┆ 4718.0                │\n",
       "│ null_count ┆ 0.0                   │\n",
       "│ mean       ┆ 3.826621              │\n",
       "│ std        ┆ 5.752403              │\n",
       "│ min        ┆ 1.0                   │\n",
       "│ 25%        ┆ 1.0                   │\n",
       "│ 50%        ┆ 2.0                   │\n",
       "│ 75%        ┆ 4.0                   │\n",
       "│ max        ┆ 130.0                 │\n",
       "└────────────┴───────────────────────┘"
      ]
     },
     "execution_count": 8,
     "metadata": {},
     "output_type": "execute_result"
    }
   ],
   "source": [
    "agg_uid.select('n_days').rename({\"n_days\": \"number-of-active-days\"}).describe()"
   ]
  },
  {
   "cell_type": "code",
   "execution_count": 9,
   "metadata": {},
   "outputs": [
    {
     "data": {
      "text/plain": [
       "Text(0.5, 0, 'number-of-active-days')"
      ]
     },
     "execution_count": 9,
     "metadata": {},
     "output_type": "execute_result"
    },
    {
     "data": {
      "image/png": "[encoded data removed]",
      "text/plain": [
       "<Figure size 640x480 with 1 Axes>"
      ]
     },
     "metadata": {},
     "output_type": "display_data"
    }
   ],
   "source": [
    "g = sb.histplot(data = agg_uid, x = \"n_days\")\n",
    "g.set_title(\"Distribution of number-of-active-days by each member\")\n",
    "g.set_xlabel(\"number-of-active-days\")"
   ]
  },
  {
   "cell_type": "markdown",
   "metadata": {},
   "source": [
    "## Process of Continuous-Mean "
   ]
  },
  {
   "cell_type": "markdown",
   "metadata": {},
   "source": [
    "### Intuitive way"
   ]
  },
  {
   "cell_type": "code",
   "execution_count": 10,
   "metadata": {},
   "outputs": [
    {
     "data": {
      "text/html": [
       "<div><style>\n",
       ".dataframe > thead > tr,\n",
       ".dataframe > tbody > tr {\n",
       "  text-align: right;\n",
       "  white-space: pre-wrap;\n",
       "}\n",
       "</style>\n",
       "<small>shape: (4, 2)</small><table border=\"1\" class=\"dataframe\"><thead><tr><th></th><th>count</th></tr><tr><td>enum</td><td>u32</td></tr></thead><tbody><tr><td>&quot;T&quot;</td><td>122</td></tr><tr><td>&quot;H&quot;</td><td>296</td></tr><tr><td>&quot;M&quot;</td><td>1109</td></tr><tr><td>&quot;L&quot;</td><td>3191</td></tr></tbody></table></div>"
      ],
      "text/plain": [
       "shape: (4, 2)\n",
       "┌──────┬───────┐\n",
       "│      ┆ count │\n",
       "│ ---  ┆ ---   │\n",
       "│ enum ┆ u32   │\n",
       "╞══════╪═══════╡\n",
       "│ T    ┆ 122   │\n",
       "│ H    ┆ 296   │\n",
       "│ M    ┆ 1109  │\n",
       "│ L    ┆ 3191  │\n",
       "└──────┴───────┘"
      ]
     },
     "execution_count": 10,
     "metadata": {},
     "output_type": "execute_result"
    }
   ],
   "source": [
    "x = agg_uid.select('n_days').to_series()\n",
    "\n",
    "m1 = x.mean()\n",
    "m2 = x.filter(x > m1).mean()\n",
    "m3 = x.filter(x > m2).mean()\n",
    "\n",
    "y = (\n",
    "    pl.Series(['L'] * len(x))\n",
    "    .set(x > m1, 'M')\n",
    "    .set(x > m2, 'H')\n",
    "    .set(x > m3, 'T')\n",
    ")\n",
    "\n",
    "cate_enum = pl.Enum(['T', 'H', 'M', 'L'])\n",
    "y = pl.Series(y, dtype = cate_enum)\n",
    "y.value_counts().sort(by = \"\")"
   ]
  },
  {
   "cell_type": "markdown",
   "metadata": {},
   "source": [
    "### Create a general function\n",
    "Users can set how many groups they want and the Enum list."
   ]
  },
  {
   "cell_type": "code",
   "execution_count": 11,
   "metadata": {},
   "outputs": [
    {
     "data": {
      "text/html": [
       "<div><style>\n",
       ".dataframe > thead > tr,\n",
       ".dataframe > tbody > tr {\n",
       "  text-align: right;\n",
       "  white-space: pre-wrap;\n",
       "}\n",
       "</style>\n",
       "<small>shape: (10, 3)</small><table border=\"1\" class=\"dataframe\"><thead><tr><th>cust_id</th><th>n_days</th><th>thml_n_days</th></tr><tr><td>i64</td><td>i64</td><td>enum</td></tr></thead><tbody><tr><td>12725</td><td>1</td><td>&quot;L&quot;</td></tr><tr><td>15460</td><td>1</td><td>&quot;L&quot;</td></tr><tr><td>16065</td><td>1</td><td>&quot;L&quot;</td></tr><tr><td>16212</td><td>2</td><td>&quot;L&quot;</td></tr><tr><td>16730</td><td>3</td><td>&quot;L&quot;</td></tr><tr><td>14348</td><td>1</td><td>&quot;L&quot;</td></tr><tr><td>14112</td><td>5</td><td>&quot;M&quot;</td></tr><tr><td>12897</td><td>2</td><td>&quot;L&quot;</td></tr><tr><td>15224</td><td>2</td><td>&quot;L&quot;</td></tr><tr><td>15397</td><td>1</td><td>&quot;L&quot;</td></tr></tbody></table></div>"
      ],
      "text/plain": [
       "shape: (10, 3)\n",
       "┌─────────┬────────┬─────────────┐\n",
       "│ cust_id ┆ n_days ┆ thml_n_days │\n",
       "│ ---     ┆ ---    ┆ ---         │\n",
       "│ i64     ┆ i64    ┆ enum        │\n",
       "╞═════════╪════════╪═════════════╡\n",
       "│ 12725   ┆ 1      ┆ L           │\n",
       "│ 15460   ┆ 1      ┆ L           │\n",
       "│ 16065   ┆ 1      ┆ L           │\n",
       "│ 16212   ┆ 2      ┆ L           │\n",
       "│ 16730   ┆ 3      ┆ L           │\n",
       "│ 14348   ┆ 1      ┆ L           │\n",
       "│ 14112   ┆ 5      ┆ M           │\n",
       "│ 12897   ┆ 2      ┆ L           │\n",
       "│ 15224   ┆ 2      ┆ L           │\n",
       "│ 15397   ┆ 1      ┆ L           │\n",
       "└─────────┴────────┴─────────────┘"
      ]
     },
     "execution_count": 11,
     "metadata": {},
     "output_type": "execute_result"
    }
   ],
   "source": [
    "def continuous_mean_grouping(x: pl.Series, n_group: int, high_to_low_name: list[str] = None) -> pl.Series:\n",
    "    \n",
    "    if high_to_low_name is not None and len(high_to_low_name) != n_group:\n",
    "        raise ValueError(\"The length of high_to_low_name must be equal to n_group!\")\n",
    "        \n",
    "    N = n_group    \n",
    "    m0 = x.min() - 1\n",
    "    \n",
    "    if high_to_low_name is None:\n",
    "        names = [j+1 for j in range(N)]\n",
    "        y = pl.Series([N] * len(x))\n",
    "    elif high_to_low_name is not None: \n",
    "        names = high_to_low_name\n",
    "        y = pl.Series([names[-1]] * len(x))\n",
    "    \n",
    "    for i in range(N-1):\n",
    "        m1 = x.filter(x > m0).mean()\n",
    "        y = y.set(x > m1, names[-i-2])\n",
    "        m0 = m1\n",
    "\n",
    "    if high_to_low_name is not None: \n",
    "        cate_enum = pl.Enum(names)\n",
    "        return pl.Series(y, dtype = cate_enum)\n",
    "    else:\n",
    "        return y\n",
    "\n",
    "\n",
    "agg_uid = (\n",
    "    agg_uid\n",
    "    .with_columns(\n",
    "        thml_n_days = pl.col('n_days').map_batches(lambda x: continuous_mean_grouping(x, n_group = 4, high_to_low_name = ['T', 'H', 'M', 'L']))\n",
    "    )\n",
    ")\n",
    "\n",
    "agg_uid.select('cust_id', 'n_days', 'thml_n_days').sample(n = 10)"
   ]
  },
  {
   "cell_type": "markdown",
   "metadata": {},
   "source": [
    "## Application"
   ]
  },
  {
   "cell_type": "markdown",
   "metadata": {},
   "source": [
    "### Check the grouping boundary and member count.\n",
    "It can help us identify or highlight the heavy users."
   ]
  },
  {
   "cell_type": "code",
   "execution_count": 20,
   "metadata": {},
   "outputs": [
    {
     "data": {
      "text/html": [
       "<div><style>\n",
       ".dataframe > thead > tr,\n",
       ".dataframe > tbody > tr {\n",
       "  text-align: right;\n",
       "  white-space: pre-wrap;\n",
       "}\n",
       "</style>\n",
       "<small>shape: (4, 5)</small><table border=\"1\" class=\"dataframe\"><thead><tr><th>thml_n_days</th><th>min_v</th><th>max_v</th><th>mean_v</th><th>people</th></tr><tr><td>enum</td><td>i64</td><td>i64</td><td>f64</td><td>u32</td></tr></thead><tbody><tr><td>&quot;T&quot;</td><td>17</td><td>130</td><td>28.07</td><td>122</td></tr><tr><td>&quot;H&quot;</td><td>9</td><td>16</td><td>11.41</td><td>296</td></tr><tr><td>&quot;M&quot;</td><td>4</td><td>8</td><td>5.32</td><td>1109</td></tr><tr><td>&quot;L&quot;</td><td>1</td><td>3</td><td>1.68</td><td>3191</td></tr></tbody></table></div>"
      ],
      "text/plain": [
       "shape: (4, 5)\n",
       "┌─────────────┬───────┬───────┬────────┬────────┐\n",
       "│ thml_n_days ┆ min_v ┆ max_v ┆ mean_v ┆ people │\n",
       "│ ---         ┆ ---   ┆ ---   ┆ ---    ┆ ---    │\n",
       "│ enum        ┆ i64   ┆ i64   ┆ f64    ┆ u32    │\n",
       "╞═════════════╪═══════╪═══════╪════════╪════════╡\n",
       "│ T           ┆ 17    ┆ 130   ┆ 28.07  ┆ 122    │\n",
       "│ H           ┆ 9     ┆ 16    ┆ 11.41  ┆ 296    │\n",
       "│ M           ┆ 4     ┆ 8     ┆ 5.32   ┆ 1109   │\n",
       "│ L           ┆ 1     ┆ 3     ┆ 1.68   ┆ 3191   │\n",
       "└─────────────┴───────┴───────┴────────┴────────┘"
      ]
     },
     "execution_count": 20,
     "metadata": {},
     "output_type": "execute_result"
    }
   ],
   "source": [
    "(\n",
    "    agg_uid\n",
    "    .group_by('thml_n_days')\n",
    "    .agg(\n",
    "        min_v = pl.col('n_days').min(),\n",
    "        max_v = pl.col('n_days').max(),\n",
    "        mean_v = pl.col('n_days').mean().round(2),\n",
    "        people = pl.len()\n",
    "    )\n",
    "    .sort(by = 'thml_n_days')\n",
    ")"
   ]
  },
  {
   "cell_type": "markdown",
   "metadata": {},
   "source": [
    "### Cross other dimension\n",
    "It can help us find more insights about the members."
   ]
  },
  {
   "cell_type": "code",
   "execution_count": 23,
   "metadata": {},
   "outputs": [],
   "source": [
    "main_data = pl.read_csv('../data_source/kaggle_data/Sales_Transaction_v4a/main.csv', try_parse_dates = True)"
   ]
  },
  {
   "cell_type": "code",
   "execution_count": 24,
   "metadata": {},
   "outputs": [
    {
     "data": {
      "text/html": [
       "<div><style>\n",
       ".dataframe > thead > tr,\n",
       ".dataframe > tbody > tr {\n",
       "  text-align: right;\n",
       "  white-space: pre-wrap;\n",
       "}\n",
       "</style>\n",
       "<small>shape: (527_764, 9)</small><table border=\"1\" class=\"dataframe\"><thead><tr><th>txn_id</th><th>txndate</th><th>pid</th><th>pname</th><th>price</th><th>quantity</th><th>cust_id</th><th>country</th><th>payment</th></tr><tr><td>i64</td><td>date</td><td>str</td><td>str</td><td>f64</td><td>i64</td><td>i64</td><td>str</td><td>f64</td></tr></thead><tbody><tr><td>581482</td><td>2019-12-09</td><td>&quot;22485&quot;</td><td>&quot;Set Of 2 Wooden Market Crates&quot;</td><td>21.47</td><td>12</td><td>17490</td><td>&quot;United Kingdom&quot;</td><td>257.64</td></tr><tr><td>581475</td><td>2019-12-09</td><td>&quot;22596&quot;</td><td>&quot;Christmas Star Wish List Chalk…</td><td>10.65</td><td>36</td><td>13069</td><td>&quot;United Kingdom&quot;</td><td>383.4</td></tr><tr><td>581475</td><td>2019-12-09</td><td>&quot;23235&quot;</td><td>&quot;Storage Tin Vintage Leaf&quot;</td><td>11.53</td><td>12</td><td>13069</td><td>&quot;United Kingdom&quot;</td><td>138.36</td></tr><tr><td>581475</td><td>2019-12-09</td><td>&quot;23272&quot;</td><td>&quot;Tree T-Light Holder Willie Win…</td><td>10.65</td><td>12</td><td>13069</td><td>&quot;United Kingdom&quot;</td><td>127.8</td></tr><tr><td>581475</td><td>2019-12-09</td><td>&quot;23239&quot;</td><td>&quot;Set Of 4 Knick Knack Tins Popp…</td><td>11.94</td><td>6</td><td>13069</td><td>&quot;United Kingdom&quot;</td><td>71.64</td></tr><tr><td>&hellip;</td><td>&hellip;</td><td>&hellip;</td><td>&hellip;</td><td>&hellip;</td><td>&hellip;</td><td>&hellip;</td><td>&hellip;</td><td>&hellip;</td></tr><tr><td>536585</td><td>2018-12-01</td><td>&quot;37449&quot;</td><td>&quot;Ceramic Cake Stand + Hanging C…</td><td>20.45</td><td>2</td><td>17460</td><td>&quot;United Kingdom&quot;</td><td>40.9</td></tr><tr><td>536590</td><td>2018-12-01</td><td>&quot;22776&quot;</td><td>&quot;Sweetheart 3 Tier Cake Stand&quot;</td><td>20.45</td><td>1</td><td>13065</td><td>&quot;United Kingdom&quot;</td><td>20.45</td></tr><tr><td>536590</td><td>2018-12-01</td><td>&quot;22622&quot;</td><td>&quot;Box Of Vintage Alphabet Blocks&quot;</td><td>20.45</td><td>2</td><td>13065</td><td>&quot;United Kingdom&quot;</td><td>40.9</td></tr><tr><td>536591</td><td>2018-12-01</td><td>&quot;37449&quot;</td><td>&quot;Ceramic Cake Stand + Hanging C…</td><td>20.45</td><td>1</td><td>14606</td><td>&quot;United Kingdom&quot;</td><td>20.45</td></tr><tr><td>536597</td><td>2018-12-01</td><td>&quot;22220&quot;</td><td>&quot;Cake Stand Lovebird 2 Tier Whi…</td><td>20.45</td><td>1</td><td>18011</td><td>&quot;United Kingdom&quot;</td><td>20.45</td></tr></tbody></table></div>"
      ],
      "text/plain": [
       "shape: (527_764, 9)\n",
       "┌────────┬────────────┬───────┬────────────────┬───┬──────────┬─────────┬────────────────┬─────────┐\n",
       "│ txn_id ┆ txndate    ┆ pid   ┆ pname          ┆ … ┆ quantity ┆ cust_id ┆ country        ┆ payment │\n",
       "│ ---    ┆ ---        ┆ ---   ┆ ---            ┆   ┆ ---      ┆ ---     ┆ ---            ┆ ---     │\n",
       "│ i64    ┆ date       ┆ str   ┆ str            ┆   ┆ i64      ┆ i64     ┆ str            ┆ f64     │\n",
       "╞════════╪════════════╪═══════╪════════════════╪═══╪══════════╪═════════╪════════════════╪═════════╡\n",
       "│ 581482 ┆ 2019-12-09 ┆ 22485 ┆ Set Of 2       ┆ … ┆ 12       ┆ 17490   ┆ United Kingdom ┆ 257.64  │\n",
       "│        ┆            ┆       ┆ Wooden Market  ┆   ┆          ┆         ┆                ┆         │\n",
       "│        ┆            ┆       ┆ Crates         ┆   ┆          ┆         ┆                ┆         │\n",
       "│ 581475 ┆ 2019-12-09 ┆ 22596 ┆ Christmas Star ┆ … ┆ 36       ┆ 13069   ┆ United Kingdom ┆ 383.4   │\n",
       "│        ┆            ┆       ┆ Wish List      ┆   ┆          ┆         ┆                ┆         │\n",
       "│        ┆            ┆       ┆ Chalk…         ┆   ┆          ┆         ┆                ┆         │\n",
       "│ 581475 ┆ 2019-12-09 ┆ 23235 ┆ Storage Tin    ┆ … ┆ 12       ┆ 13069   ┆ United Kingdom ┆ 138.36  │\n",
       "│        ┆            ┆       ┆ Vintage Leaf   ┆   ┆          ┆         ┆                ┆         │\n",
       "│ 581475 ┆ 2019-12-09 ┆ 23272 ┆ Tree T-Light   ┆ … ┆ 12       ┆ 13069   ┆ United Kingdom ┆ 127.8   │\n",
       "│        ┆            ┆       ┆ Holder Willie  ┆   ┆          ┆         ┆                ┆         │\n",
       "│        ┆            ┆       ┆ Win…           ┆   ┆          ┆         ┆                ┆         │\n",
       "│ 581475 ┆ 2019-12-09 ┆ 23239 ┆ Set Of 4 Knick ┆ … ┆ 6        ┆ 13069   ┆ United Kingdom ┆ 71.64   │\n",
       "│        ┆            ┆       ┆ Knack Tins     ┆   ┆          ┆         ┆                ┆         │\n",
       "│        ┆            ┆       ┆ Popp…          ┆   ┆          ┆         ┆                ┆         │\n",
       "│ …      ┆ …          ┆ …     ┆ …              ┆ … ┆ …        ┆ …       ┆ …              ┆ …       │\n",
       "│ 536585 ┆ 2018-12-01 ┆ 37449 ┆ Ceramic Cake   ┆ … ┆ 2        ┆ 17460   ┆ United Kingdom ┆ 40.9    │\n",
       "│        ┆            ┆       ┆ Stand +        ┆   ┆          ┆         ┆                ┆         │\n",
       "│        ┆            ┆       ┆ Hanging C…     ┆   ┆          ┆         ┆                ┆         │\n",
       "│ 536590 ┆ 2018-12-01 ┆ 22776 ┆ Sweetheart 3   ┆ … ┆ 1        ┆ 13065   ┆ United Kingdom ┆ 20.45   │\n",
       "│        ┆            ┆       ┆ Tier Cake      ┆   ┆          ┆         ┆                ┆         │\n",
       "│        ┆            ┆       ┆ Stand          ┆   ┆          ┆         ┆                ┆         │\n",
       "│ 536590 ┆ 2018-12-01 ┆ 22622 ┆ Box Of Vintage ┆ … ┆ 2        ┆ 13065   ┆ United Kingdom ┆ 40.9    │\n",
       "│        ┆            ┆       ┆ Alphabet       ┆   ┆          ┆         ┆                ┆         │\n",
       "│        ┆            ┆       ┆ Blocks         ┆   ┆          ┆         ┆                ┆         │\n",
       "│ 536591 ┆ 2018-12-01 ┆ 37449 ┆ Ceramic Cake   ┆ … ┆ 1        ┆ 14606   ┆ United Kingdom ┆ 20.45   │\n",
       "│        ┆            ┆       ┆ Stand +        ┆   ┆          ┆         ┆                ┆         │\n",
       "│        ┆            ┆       ┆ Hanging C…     ┆   ┆          ┆         ┆                ┆         │\n",
       "│ 536597 ┆ 2018-12-01 ┆ 22220 ┆ Cake Stand     ┆ … ┆ 1        ┆ 18011   ┆ United Kingdom ┆ 20.45   │\n",
       "│        ┆            ┆       ┆ Lovebird 2     ┆   ┆          ┆         ┆                ┆         │\n",
       "│        ┆            ┆       ┆ Tier Whi…      ┆   ┆          ┆         ┆                ┆         │\n",
       "└────────┴────────────┴───────┴────────────────┴───┴──────────┴─────────┴────────────────┴─────────┘"
      ]
     },
     "execution_count": 24,
     "metadata": {},
     "output_type": "execute_result"
    }
   ],
   "source": [
    "(\n",
    "    main_data\n",
    "    .join(\n",
    "        \n",
    "    )\n",
    ")"
   ]
  },
  {
   "cell_type": "code",
   "execution_count": null,
   "metadata": {},
   "outputs": [],
   "source": [
    "# def transform_THML(x: pl.Series) -> pl.Series:\n",
    "#     m1 = x.mean()\n",
    "#     m2 = x.filter(x > m1).mean()\n",
    "#     m3 = x.filter(x > m2).mean()\n",
    "\n",
    "#     y = (\n",
    "#         pl.Series(['L'] * len(x))\n",
    "#         .set(x > m1, 'M')\n",
    "#         .set(x > m2, 'H')\n",
    "#         .set(x > m3, 'T')\n",
    "#     )\n",
    "    \n",
    "#     cate_enum = pl.Enum(['T', 'H', 'M', 'L'])\n",
    "#     z = pl.Series(y, dtype = cate_enum)\n",
    "    \n",
    "#     return z\n",
    "\n",
    "# (\n",
    "#     agg_uid\n",
    "#     .with_columns(\n",
    "#         thml_n_days = pl.col('n_days').map_batches(transform_THML)\n",
    "#     )\n",
    "#     .group_by('thml_n_days')\n",
    "#     .agg(\n",
    "#         min_v = pl.col('n_days').min(),\n",
    "#         max_v = pl.col('n_days').max(),\n",
    "#         n = pl.len()\n",
    "#     )\n",
    "#     .sort(by = 'thml_n_days')\n",
    "# )"
   ]
  },
  {
   "cell_type": "code",
   "execution_count": 60,
   "metadata": {},
   "outputs": [
    {
     "name": "stdout",
     "output_type": "stream",
     "text": [
      "[1, 2, 3, 4]\n",
      "1\n"
     ]
    },
    {
     "data": {
      "text/plain": [
       "['T', 'H', 'M', 'L']"
      ]
     },
     "execution_count": 60,
     "metadata": {},
     "output_type": "execute_result"
    }
   ],
   "source": [
    "# N = 4\n",
    "# names = [j+1 for j in range(N)]\n",
    "# # names.reverse()\n",
    "# print(\n",
    "#     names,\n",
    "#     names[-4],\n",
    "#     sep = \"\\n\"\n",
    "# )\n",
    "\n",
    "# high_to_low_name = ['T', 'H', 'M', 'L']\n",
    "# high_to_low_name.reverse()\n",
    "# high_to_low_name.reverse()\n",
    "# high_to_low_name"
   ]
  },
  {
   "cell_type": "code",
   "execution_count": 56,
   "metadata": {},
   "outputs": [],
   "source": [
    "# xx = agg_uid.select('n_days').to_series()\n",
    "# y = pl.Series([names[0]] * len(xx))\n",
    "\n",
    "\n",
    "# N: int = 4\n",
    "\n",
    "# yy = xx.clone()\n",
    "# m0 = yy.min() - 1\n",
    "\n",
    "# z = pl.Series([N] * len(xx))\n",
    "# avg_list = list()\n",
    "# for i in range(N-1):\n",
    "#     m1 = yy.filter(yy > m0).mean()\n",
    "#     z = z.set(xx > m1, (N - i - 1))\n",
    "#     m0 = m1\n",
    "#     avg_list.append(m1)\n",
    "    \n",
    "    \n",
    "# # z = pl.Series([N] * len(xx))\n",
    "# # for i in range(N-1):\n",
    "# #     z = z.set(xx > avg_list[i], (N - i - 1))\n",
    "\n",
    "\n",
    "# print(\n",
    "#     avg_list,\n",
    "#     z,\n",
    "#     sep = \"\\n\"\n",
    "# )\n",
    "\n"
   ]
  },
  {
   "cell_type": "markdown",
   "metadata": {},
   "source": [
    "<iframe src=\"https://docs.google.com/presentation/d/1hJ02ZPlP4rY62HzJrLNIDnwAWSWaeTxbuwerU2kwr-8/embed?start=false&loop=false&slide=6&rm=minimal\" width=\"960\" height=\"569\" allowfullscreen=\"true\"></iframe>"
   ]
  }
 ],
 "metadata": {
  "kernelspec": {
   "display_name": ".venv",
   "language": "python",
   "name": "python3"
  },
  "language_info": {
   "codemirror_mode": {
    "name": "ipython",
    "version": 3
   },
   "file_extension": ".py",
   "mimetype": "text/x-python",
   "name": "python",
   "nbconvert_exporter": "python",
   "pygments_lexer": "ipython3",
   "version": "3.11.9"
  }
 },
 "nbformat": 4,
 "nbformat_minor": 2
}
