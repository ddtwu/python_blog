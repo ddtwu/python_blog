{
 "cells": [
  {
   "cell_type": "code",
   "execution_count": 1,
   "metadata": {},
   "outputs": [],
   "source": [
    "# import pandas as pd\n",
    "import polars as pl\n",
    "# from polars import col"
   ]
  },
  {
   "cell_type": "markdown",
   "metadata": {},
   "source": [
    "# Read Data\n",
    "Let's start from the _E-commerce Business Transaction_ dataset in Kaggle Open Data."
   ]
  },
  {
   "cell_type": "code",
   "execution_count": 2,
   "metadata": {},
   "outputs": [
    {
     "name": "stdout",
     "output_type": "stream",
     "text": [
      "Rows: 536350\n",
      "Columns: 8\n",
      "$ TransactionNo <str> '581482', '581475', '581475', '581475', '581475', '581475', '581475', '581475', '581475', '581475'\n",
      "$ Date          <str> '12/9/2019', '12/9/2019', '12/9/2019', '12/9/2019', '12/9/2019', '12/9/2019', '12/9/2019', '12/9/2019', '12/9/2019', '12/9/2019'\n",
      "$ ProductNo     <str> '22485', '22596', '23235', '23272', '23239', '21705', '22118', '22119', '22217', '22216'\n",
      "$ ProductName   <str> 'Set Of 2 Wooden Market Crates', 'Christmas Star Wish List Chalkboard', 'Storage Tin Vintage Leaf', 'Tree T-Light Holder Willie Winkie', 'Set Of 4 Knick Knack Tins Poppies', 'Bag 500g Swirly Marbles', 'Joy Wooden Block Letters', 'Peace Wooden Block Letters', 'T-Light Holder Hanging Lace', 'T-Light Holder White Lace'\n",
      "$ Price         <str> '21.47', '10.65', '11.53', '10.65', '11.94', '10.65', '11.53', '12.25', '10.65', '10.55'\n",
      "$ Quantity      <str> '12', '36', '12', '12', '6', '24', '18', '12', '12', '24'\n",
      "$ CustomerNo    <str> '17490', '13069', '13069', '13069', '13069', '13069', '13069', '13069', '13069', '13069'\n",
      "$ Country       <str> 'United Kingdom', 'United Kingdom', 'United Kingdom', 'United Kingdom', 'United Kingdom', 'United Kingdom', 'United Kingdom', 'United Kingdom', 'United Kingdom', 'United Kingdom'\n",
      "\n"
     ]
    }
   ],
   "source": [
    "raw_ec_data = pl.read_csv('./kaggle_data/Sales_Transaction_v4a.csv', infer_schema = False)\n",
    "\n",
    "raw_ec_data.glimpse()"
   ]
  },
  {
   "cell_type": "code",
   "execution_count": 3,
   "metadata": {},
   "outputs": [
    {
     "data": {
      "text/html": [
       "<div><style>\n",
       ".dataframe > thead > tr,\n",
       ".dataframe > tbody > tr {\n",
       "  text-align: right;\n",
       "  white-space: pre-wrap;\n",
       "}\n",
       "</style>\n",
       "<small>shape: (10, 8)</small><table border=\"1\" class=\"dataframe\"><thead><tr><th>TransactionNo</th><th>Date</th><th>ProductNo</th><th>ProductName</th><th>Price</th><th>Quantity</th><th>CustomerNo</th><th>Country</th></tr><tr><td>str</td><td>str</td><td>str</td><td>str</td><td>str</td><td>str</td><td>str</td><td>str</td></tr></thead><tbody><tr><td>&quot;559027&quot;</td><td>&quot;7/5/2019&quot;</td><td>&quot;22938&quot;</td><td>&quot;Cupcake Lace Paper Set 6&quot;</td><td>&quot;11.94&quot;</td><td>&quot;48&quot;</td><td>&quot;17046&quot;</td><td>&quot;United Kingdom&quot;</td></tr><tr><td>&quot;540093&quot;</td><td>&quot;1/4/2019&quot;</td><td>&quot;22072&quot;</td><td>&quot;Red Retrospot Tea Cup And Sauc…</td><td>&quot;14.09&quot;</td><td>&quot;1&quot;</td><td>&quot;16725&quot;</td><td>&quot;United Kingdom&quot;</td></tr><tr><td>&quot;543629&quot;</td><td>&quot;2/10/2019&quot;</td><td>&quot;82599&quot;</td><td>&quot;Fanny&#x27;s Rest Stopmetal Sign&quot;</td><td>&quot;14.48&quot;</td><td>&quot;1&quot;</td><td>&quot;15629&quot;</td><td>&quot;United Kingdom&quot;</td></tr><tr><td>&quot;579792&quot;</td><td>&quot;11/30/2019&quot;</td><td>&quot;22899&quot;</td><td>&quot;Children&#x27;s Apron Dolly Girl&quot;</td><td>&quot;7.24&quot;</td><td>&quot;6&quot;</td><td>&quot;12714&quot;</td><td>&quot;France&quot;</td></tr><tr><td>&quot;560281&quot;</td><td>&quot;7/17/2019&quot;</td><td>&quot;23293&quot;</td><td>&quot;Set Of 12 Fairy Cake Baking Ca…</td><td>&quot;11.10&quot;</td><td>&quot;1&quot;</td><td>&quot;17984&quot;</td><td>&quot;United Kingdom&quot;</td></tr><tr><td>&quot;575726&quot;</td><td>&quot;11/10/2019&quot;</td><td>&quot;21591&quot;</td><td>&quot;Cosy Hour Cigar Box Matches&quot;</td><td>&quot;11.53&quot;</td><td>&quot;6&quot;</td><td>&quot;16791&quot;</td><td>&quot;United Kingdom&quot;</td></tr><tr><td>&quot;C566741&quot;</td><td>&quot;9/14/2019&quot;</td><td>&quot;23404&quot;</td><td>&quot;Home Sweet Home Blackboard&quot;</td><td>&quot;15.32&quot;</td><td>&quot;-1&quot;</td><td>&quot;15618&quot;</td><td>&quot;United Kingdom&quot;</td></tr><tr><td>&quot;536845&quot;</td><td>&quot;12/2/2018&quot;</td><td>&quot;21528&quot;</td><td>&quot;Dairy Maid Traditional Teapot&quot;</td><td>&quot;17.37&quot;</td><td>&quot;1&quot;</td><td>&quot;17961&quot;</td><td>&quot;United Kingdom&quot;</td></tr><tr><td>&quot;575947&quot;</td><td>&quot;11/13/2019&quot;</td><td>&quot;22679&quot;</td><td>&quot;French Blue Metal Door Sign 4&quot;</td><td>&quot;12.77&quot;</td><td>&quot;1&quot;</td><td>&quot;13947&quot;</td><td>&quot;United Kingdom&quot;</td></tr><tr><td>&quot;578855&quot;</td><td>&quot;11/27/2019&quot;</td><td>&quot;22139&quot;</td><td>&quot;Retrospot Tea Set Ceramic 11 P…</td><td>&quot;6.19&quot;</td><td>&quot;2&quot;</td><td>&quot;14878&quot;</td><td>&quot;United Kingdom&quot;</td></tr></tbody></table></div>"
      ],
      "text/plain": [
       "shape: (10, 8)\n",
       "┌───────────────┬────────────┬───────────┬───────────────┬───────┬──────────┬────────────┬─────────┐\n",
       "│ TransactionNo ┆ Date       ┆ ProductNo ┆ ProductName   ┆ Price ┆ Quantity ┆ CustomerNo ┆ Country │\n",
       "│ ---           ┆ ---        ┆ ---       ┆ ---           ┆ ---   ┆ ---      ┆ ---        ┆ ---     │\n",
       "│ str           ┆ str        ┆ str       ┆ str           ┆ str   ┆ str      ┆ str        ┆ str     │\n",
       "╞═══════════════╪════════════╪═══════════╪═══════════════╪═══════╪══════════╪════════════╪═════════╡\n",
       "│ 559027        ┆ 7/5/2019   ┆ 22938     ┆ Cupcake Lace  ┆ 11.94 ┆ 48       ┆ 17046      ┆ United  │\n",
       "│               ┆            ┆           ┆ Paper Set 6   ┆       ┆          ┆            ┆ Kingdom │\n",
       "│ 540093        ┆ 1/4/2019   ┆ 22072     ┆ Red Retrospot ┆ 14.09 ┆ 1        ┆ 16725      ┆ United  │\n",
       "│               ┆            ┆           ┆ Tea Cup And   ┆       ┆          ┆            ┆ Kingdom │\n",
       "│               ┆            ┆           ┆ Sauc…         ┆       ┆          ┆            ┆         │\n",
       "│ 543629        ┆ 2/10/2019  ┆ 82599     ┆ Fanny's Rest  ┆ 14.48 ┆ 1        ┆ 15629      ┆ United  │\n",
       "│               ┆            ┆           ┆ Stopmetal     ┆       ┆          ┆            ┆ Kingdom │\n",
       "│               ┆            ┆           ┆ Sign          ┆       ┆          ┆            ┆         │\n",
       "│ 579792        ┆ 11/30/2019 ┆ 22899     ┆ Children's    ┆ 7.24  ┆ 6        ┆ 12714      ┆ France  │\n",
       "│               ┆            ┆           ┆ Apron Dolly   ┆       ┆          ┆            ┆         │\n",
       "│               ┆            ┆           ┆ Girl          ┆       ┆          ┆            ┆         │\n",
       "│ 560281        ┆ 7/17/2019  ┆ 23293     ┆ Set Of 12     ┆ 11.10 ┆ 1        ┆ 17984      ┆ United  │\n",
       "│               ┆            ┆           ┆ Fairy Cake    ┆       ┆          ┆            ┆ Kingdom │\n",
       "│               ┆            ┆           ┆ Baking Ca…    ┆       ┆          ┆            ┆         │\n",
       "│ 575726        ┆ 11/10/2019 ┆ 21591     ┆ Cosy Hour     ┆ 11.53 ┆ 6        ┆ 16791      ┆ United  │\n",
       "│               ┆            ┆           ┆ Cigar Box     ┆       ┆          ┆            ┆ Kingdom │\n",
       "│               ┆            ┆           ┆ Matches       ┆       ┆          ┆            ┆         │\n",
       "│ C566741       ┆ 9/14/2019  ┆ 23404     ┆ Home Sweet    ┆ 15.32 ┆ -1       ┆ 15618      ┆ United  │\n",
       "│               ┆            ┆           ┆ Home          ┆       ┆          ┆            ┆ Kingdom │\n",
       "│               ┆            ┆           ┆ Blackboard    ┆       ┆          ┆            ┆         │\n",
       "│ 536845        ┆ 12/2/2018  ┆ 21528     ┆ Dairy Maid    ┆ 17.37 ┆ 1        ┆ 17961      ┆ United  │\n",
       "│               ┆            ┆           ┆ Traditional   ┆       ┆          ┆            ┆ Kingdom │\n",
       "│               ┆            ┆           ┆ Teapot        ┆       ┆          ┆            ┆         │\n",
       "│ 575947        ┆ 11/13/2019 ┆ 22679     ┆ French Blue   ┆ 12.77 ┆ 1        ┆ 13947      ┆ United  │\n",
       "│               ┆            ┆           ┆ Metal Door    ┆       ┆          ┆            ┆ Kingdom │\n",
       "│               ┆            ┆           ┆ Sign 4        ┆       ┆          ┆            ┆         │\n",
       "│ 578855        ┆ 11/27/2019 ┆ 22139     ┆ Retrospot Tea ┆ 6.19  ┆ 2        ┆ 14878      ┆ United  │\n",
       "│               ┆            ┆           ┆ Set Ceramic   ┆       ┆          ┆            ┆ Kingdom │\n",
       "│               ┆            ┆           ┆ 11 P…         ┆       ┆          ┆            ┆         │\n",
       "└───────────────┴────────────┴───────────┴───────────────┴───────┴──────────┴────────────┴─────────┘"
      ]
     },
     "execution_count": 3,
     "metadata": {},
     "output_type": "execute_result"
    }
   ],
   "source": [
    "raw_ec_data.sample(n = 10)"
   ]
  },
  {
   "cell_type": "markdown",
   "metadata": {},
   "source": [
    "# Data Transformation"
   ]
  },
  {
   "cell_type": "code",
   "execution_count": 13,
   "metadata": {},
   "outputs": [
    {
     "data": {
      "text/html": [
       "<div><style>\n",
       ".dataframe > thead > tr,\n",
       ".dataframe > tbody > tr {\n",
       "  text-align: right;\n",
       "  white-space: pre-wrap;\n",
       "}\n",
       "</style>\n",
       "<small>shape: (536_350, 9)</small><table border=\"1\" class=\"dataframe\"><thead><tr><th>txn_id</th><th>txndate</th><th>pid</th><th>pname</th><th>price</th><th>quantity</th><th>cust_id</th><th>country</th><th>payment</th></tr><tr><td>str</td><td>date</td><td>str</td><td>str</td><td>f64</td><td>i64</td><td>str</td><td>str</td><td>f64</td></tr></thead><tbody><tr><td>&quot;581482&quot;</td><td>2019-12-09</td><td>&quot;22485&quot;</td><td>&quot;Set Of 2 Wooden Market Crates&quot;</td><td>21.47</td><td>12</td><td>&quot;17490&quot;</td><td>&quot;United Kingdom&quot;</td><td>257.64</td></tr><tr><td>&quot;581475&quot;</td><td>2019-12-09</td><td>&quot;22596&quot;</td><td>&quot;Christmas Star Wish List Chalk…</td><td>10.65</td><td>36</td><td>&quot;13069&quot;</td><td>&quot;United Kingdom&quot;</td><td>383.4</td></tr><tr><td>&quot;581475&quot;</td><td>2019-12-09</td><td>&quot;23235&quot;</td><td>&quot;Storage Tin Vintage Leaf&quot;</td><td>11.53</td><td>12</td><td>&quot;13069&quot;</td><td>&quot;United Kingdom&quot;</td><td>138.36</td></tr><tr><td>&quot;581475&quot;</td><td>2019-12-09</td><td>&quot;23272&quot;</td><td>&quot;Tree T-Light Holder Willie Win…</td><td>10.65</td><td>12</td><td>&quot;13069&quot;</td><td>&quot;United Kingdom&quot;</td><td>127.8</td></tr><tr><td>&quot;581475&quot;</td><td>2019-12-09</td><td>&quot;23239&quot;</td><td>&quot;Set Of 4 Knick Knack Tins Popp…</td><td>11.94</td><td>6</td><td>&quot;13069&quot;</td><td>&quot;United Kingdom&quot;</td><td>71.64</td></tr><tr><td>&hellip;</td><td>&hellip;</td><td>&hellip;</td><td>&hellip;</td><td>&hellip;</td><td>&hellip;</td><td>&hellip;</td><td>&hellip;</td><td>&hellip;</td></tr><tr><td>&quot;C536548&quot;</td><td>2018-12-01</td><td>&quot;22168&quot;</td><td>&quot;Organiser Wood Antique White&quot;</td><td>18.96</td><td>-2</td><td>&quot;12472&quot;</td><td>&quot;Germany&quot;</td><td>-37.92</td></tr><tr><td>&quot;C536548&quot;</td><td>2018-12-01</td><td>&quot;21218&quot;</td><td>&quot;Red Spotty Biscuit Tin&quot;</td><td>14.09</td><td>-3</td><td>&quot;12472&quot;</td><td>&quot;Germany&quot;</td><td>-42.27</td></tr><tr><td>&quot;C536548&quot;</td><td>2018-12-01</td><td>&quot;20957&quot;</td><td>&quot;Porcelain Hanging Bell Small&quot;</td><td>11.74</td><td>-1</td><td>&quot;12472&quot;</td><td>&quot;Germany&quot;</td><td>-11.74</td></tr><tr><td>&quot;C536548&quot;</td><td>2018-12-01</td><td>&quot;22580&quot;</td><td>&quot;Advent Calendar Gingham Sack&quot;</td><td>16.35</td><td>-4</td><td>&quot;12472&quot;</td><td>&quot;Germany&quot;</td><td>-65.4</td></tr><tr><td>&quot;C536548&quot;</td><td>2018-12-01</td><td>&quot;22767&quot;</td><td>&quot;Triple Photo Frame Cornice&quot;</td><td>20.45</td><td>-2</td><td>&quot;12472&quot;</td><td>&quot;Germany&quot;</td><td>-40.9</td></tr></tbody></table></div>"
      ],
      "text/plain": [
       "shape: (536_350, 9)\n",
       "┌─────────┬────────────┬───────┬──────────────────────┬───┬──────────┬─────────┬─────────┬─────────┐\n",
       "│ txn_id  ┆ txndate    ┆ pid   ┆ pname                ┆ … ┆ quantity ┆ cust_id ┆ country ┆ payment │\n",
       "│ ---     ┆ ---        ┆ ---   ┆ ---                  ┆   ┆ ---      ┆ ---     ┆ ---     ┆ ---     │\n",
       "│ str     ┆ date       ┆ str   ┆ str                  ┆   ┆ i64      ┆ str     ┆ str     ┆ f64     │\n",
       "╞═════════╪════════════╪═══════╪══════════════════════╪═══╪══════════╪═════════╪═════════╪═════════╡\n",
       "│ 581482  ┆ 2019-12-09 ┆ 22485 ┆ Set Of 2 Wooden      ┆ … ┆ 12       ┆ 17490   ┆ United  ┆ 257.64  │\n",
       "│         ┆            ┆       ┆ Market Crates        ┆   ┆          ┆         ┆ Kingdom ┆         │\n",
       "│ 581475  ┆ 2019-12-09 ┆ 22596 ┆ Christmas Star Wish  ┆ … ┆ 36       ┆ 13069   ┆ United  ┆ 383.4   │\n",
       "│         ┆            ┆       ┆ List Chalk…          ┆   ┆          ┆         ┆ Kingdom ┆         │\n",
       "│ 581475  ┆ 2019-12-09 ┆ 23235 ┆ Storage Tin Vintage  ┆ … ┆ 12       ┆ 13069   ┆ United  ┆ 138.36  │\n",
       "│         ┆            ┆       ┆ Leaf                 ┆   ┆          ┆         ┆ Kingdom ┆         │\n",
       "│ 581475  ┆ 2019-12-09 ┆ 23272 ┆ Tree T-Light Holder  ┆ … ┆ 12       ┆ 13069   ┆ United  ┆ 127.8   │\n",
       "│         ┆            ┆       ┆ Willie Win…          ┆   ┆          ┆         ┆ Kingdom ┆         │\n",
       "│ 581475  ┆ 2019-12-09 ┆ 23239 ┆ Set Of 4 Knick Knack ┆ … ┆ 6        ┆ 13069   ┆ United  ┆ 71.64   │\n",
       "│         ┆            ┆       ┆ Tins Popp…           ┆   ┆          ┆         ┆ Kingdom ┆         │\n",
       "│ …       ┆ …          ┆ …     ┆ …                    ┆ … ┆ …        ┆ …       ┆ …       ┆ …       │\n",
       "│ C536548 ┆ 2018-12-01 ┆ 22168 ┆ Organiser Wood       ┆ … ┆ -2       ┆ 12472   ┆ Germany ┆ -37.92  │\n",
       "│         ┆            ┆       ┆ Antique White        ┆   ┆          ┆         ┆         ┆         │\n",
       "│ C536548 ┆ 2018-12-01 ┆ 21218 ┆ Red Spotty Biscuit   ┆ … ┆ -3       ┆ 12472   ┆ Germany ┆ -42.27  │\n",
       "│         ┆            ┆       ┆ Tin                  ┆   ┆          ┆         ┆         ┆         │\n",
       "│ C536548 ┆ 2018-12-01 ┆ 20957 ┆ Porcelain Hanging    ┆ … ┆ -1       ┆ 12472   ┆ Germany ┆ -11.74  │\n",
       "│         ┆            ┆       ┆ Bell Small           ┆   ┆          ┆         ┆         ┆         │\n",
       "│ C536548 ┆ 2018-12-01 ┆ 22580 ┆ Advent Calendar      ┆ … ┆ -4       ┆ 12472   ┆ Germany ┆ -65.4   │\n",
       "│         ┆            ┆       ┆ Gingham Sack         ┆   ┆          ┆         ┆         ┆         │\n",
       "│ C536548 ┆ 2018-12-01 ┆ 22767 ┆ Triple Photo Frame   ┆ … ┆ -2       ┆ 12472   ┆ Germany ┆ -40.9   │\n",
       "│         ┆            ┆       ┆ Cornice              ┆   ┆          ┆         ┆         ┆         │\n",
       "└─────────┴────────────┴───────┴──────────────────────┴───┴──────────┴─────────┴─────────┴─────────┘"
      ]
     },
     "execution_count": 13,
     "metadata": {},
     "output_type": "execute_result"
    }
   ],
   "source": [
    "ec_data = (\n",
    "    raw_ec_data\n",
    "    .select(\n",
    "        pl.col('TransactionNo').str.strip_chars().alias('txn_id'),\n",
    "        pl.col('Date').str.to_date(format = \"%m/%d/%Y\").alias('txndate'),\n",
    "        pl.col('ProductNo').str.strip_chars().alias('pid'),\n",
    "        pl.col('ProductName').str.strip_chars().alias('pname'),\n",
    "        pl.col('Price').cast(pl.Float64).alias('price'),\n",
    "        pl.col('Quantity').cast(pl.Int64).alias('quantity'),\n",
    "        pl.col('CustomerNo').str.strip_chars().alias('cust_id'),\n",
    "        pl.col('Country').str.strip_chars().alias('country')\n",
    "    )\n",
    "    .with_columns(\n",
    "        payment = pl.col('price') * pl.col('quantity')\n",
    "    )\n",
    ")\n",
    "\n",
    "ec_data"
   ]
  },
  {
   "cell_type": "markdown",
   "metadata": {},
   "source": [
    "# Data Aggregation and Cleansing"
   ]
  },
  {
   "cell_type": "code",
   "execution_count": 5,
   "metadata": {},
   "outputs": [],
   "source": [
    "# remove the cust_id == \"NA\"\n",
    "ec_data.group_by('cust_id').len().sort(by = 'cust_id')\n",
    "\n",
    "ec_data= (\n",
    "    ec_data\n",
    "    .filter(pl.col('cust_id') != \"NA\")\n",
    ")"
   ]
  },
  {
   "cell_type": "code",
   "execution_count": 6,
   "metadata": {},
   "outputs": [],
   "source": [
    "# remove the order which has total_amount less than 0\n",
    "agg_data = (\n",
    "    ec_data\n",
    "    .group_by('txn_id', 'cust_id', 'txndate')\n",
    "    .agg(\n",
    "        sum_payment = pl.col('payment').sum()\n",
    "    ).\n",
    "    sort(by = ['cust_id', 'txndate'])\n",
    "    # filter(pl.col('sum_payment') <= 0)\n",
    ")\n",
    "\n",
    "\n"
   ]
  },
  {
   "cell_type": "code",
   "execution_count": 7,
   "metadata": {},
   "outputs": [
    {
     "data": {
      "text/html": [
       "<div><style>\n",
       ".dataframe > thead > tr,\n",
       ".dataframe > tbody > tr {\n",
       "  text-align: right;\n",
       "  white-space: pre-wrap;\n",
       "}\n",
       "</style>\n",
       "<small>shape: (3_379, 4)</small><table border=\"1\" class=\"dataframe\"><thead><tr><th>txn_id</th><th>cust_id</th><th>txndate</th><th>sum_payment</th></tr><tr><td>str</td><td>str</td><td>date</td><td>f64</td></tr></thead><tbody><tr><td>&quot;C541433&quot;</td><td>&quot;12346&quot;</td><td>2019-01-18</td><td>-840113.8</td></tr><tr><td>&quot;C547388&quot;</td><td>&quot;12352&quot;</td><td>2019-03-22</td><td>-769.08</td></tr><tr><td>&quot;C549955&quot;</td><td>&quot;12359&quot;</td><td>2019-04-13</td><td>-77.68</td></tr><tr><td>&quot;C580165&quot;</td><td>&quot;12359&quot;</td><td>2019-12-02</td><td>-37.14</td></tr><tr><td>&quot;C544902&quot;</td><td>&quot;12362&quot;</td><td>2019-02-24</td><td>-25.52</td></tr><tr><td>&hellip;</td><td>&hellip;</td><td>&hellip;</td><td>&hellip;</td></tr><tr><td>&quot;C577832&quot;</td><td>&quot;18274&quot;</td><td>2019-11-22</td><td>-1082.32</td></tr><tr><td>&quot;C577386&quot;</td><td>&quot;18276&quot;</td><td>2019-11-18</td><td>-16.66</td></tr><tr><td>&quot;C577390&quot;</td><td>&quot;18276&quot;</td><td>2019-11-18</td><td>-16.66</td></tr><tr><td>&quot;C542086&quot;</td><td>&quot;18277&quot;</td><td>2019-01-25</td><td>-23.32</td></tr><tr><td>&quot;C562808&quot;</td><td>&quot;18282&quot;</td><td>2019-08-09</td><td>-52.75</td></tr></tbody></table></div>"
      ],
      "text/plain": [
       "shape: (3_379, 4)\n",
       "┌─────────┬─────────┬────────────┬─────────────┐\n",
       "│ txn_id  ┆ cust_id ┆ txndate    ┆ sum_payment │\n",
       "│ ---     ┆ ---     ┆ ---        ┆ ---         │\n",
       "│ str     ┆ str     ┆ date       ┆ f64         │\n",
       "╞═════════╪═════════╪════════════╪═════════════╡\n",
       "│ C541433 ┆ 12346   ┆ 2019-01-18 ┆ -840113.8   │\n",
       "│ C547388 ┆ 12352   ┆ 2019-03-22 ┆ -769.08     │\n",
       "│ C549955 ┆ 12359   ┆ 2019-04-13 ┆ -77.68      │\n",
       "│ C580165 ┆ 12359   ┆ 2019-12-02 ┆ -37.14      │\n",
       "│ C544902 ┆ 12362   ┆ 2019-02-24 ┆ -25.52      │\n",
       "│ …       ┆ …       ┆ …          ┆ …           │\n",
       "│ C577832 ┆ 18274   ┆ 2019-11-22 ┆ -1082.32    │\n",
       "│ C577386 ┆ 18276   ┆ 2019-11-18 ┆ -16.66      │\n",
       "│ C577390 ┆ 18276   ┆ 2019-11-18 ┆ -16.66      │\n",
       "│ C542086 ┆ 18277   ┆ 2019-01-25 ┆ -23.32      │\n",
       "│ C562808 ┆ 18282   ┆ 2019-08-09 ┆ -52.75      │\n",
       "└─────────┴─────────┴────────────┴─────────────┘"
      ]
     },
     "execution_count": 7,
     "metadata": {},
     "output_type": "execute_result"
    }
   ],
   "source": [
    "agg_data.filter(pl.col('sum_payment') <= 0)"
   ]
  },
  {
   "cell_type": "code",
   "execution_count": 8,
   "metadata": {},
   "outputs": [
    {
     "data": {
      "text/html": [
       "<div><style>\n",
       ".dataframe > thead > tr,\n",
       ".dataframe > tbody > tr {\n",
       "  text-align: right;\n",
       "  white-space: pre-wrap;\n",
       "}\n",
       "</style>\n",
       "<small>shape: (3, 4)</small><table border=\"1\" class=\"dataframe\"><thead><tr><th>txn_id</th><th>cust_id</th><th>txndate</th><th>sum_payment</th></tr><tr><td>str</td><td>str</td><td>date</td><td>f64</td></tr></thead><tbody><tr><td>&quot;562525&quot;</td><td>&quot;18282&quot;</td><td>2019-08-05</td><td>871.54</td></tr><tr><td>&quot;C562808&quot;</td><td>&quot;18282&quot;</td><td>2019-08-09</td><td>-52.75</td></tr><tr><td>&quot;580173&quot;</td><td>&quot;18282&quot;</td><td>2019-12-02</td><td>173.32</td></tr></tbody></table></div>"
      ],
      "text/plain": [
       "shape: (3, 4)\n",
       "┌─────────┬─────────┬────────────┬─────────────┐\n",
       "│ txn_id  ┆ cust_id ┆ txndate    ┆ sum_payment │\n",
       "│ ---     ┆ ---     ┆ ---        ┆ ---         │\n",
       "│ str     ┆ str     ┆ date       ┆ f64         │\n",
       "╞═════════╪═════════╪════════════╪═════════════╡\n",
       "│ 562525  ┆ 18282   ┆ 2019-08-05 ┆ 871.54      │\n",
       "│ C562808 ┆ 18282   ┆ 2019-08-09 ┆ -52.75      │\n",
       "│ 580173  ┆ 18282   ┆ 2019-12-02 ┆ 173.32      │\n",
       "└─────────┴─────────┴────────────┴─────────────┘"
      ]
     },
     "execution_count": 8,
     "metadata": {},
     "output_type": "execute_result"
    }
   ],
   "source": [
    "agg_data.filter(pl.col('cust_id') == \"18282\")"
   ]
  },
  {
   "cell_type": "code",
   "execution_count": 9,
   "metadata": {},
   "outputs": [],
   "source": [
    "aa = (ec_data.filter(pl.col('cust_id') == \"18282\"))"
   ]
  },
  {
   "cell_type": "code",
   "execution_count": 10,
   "metadata": {},
   "outputs": [
    {
     "data": {
      "text/html": [
       "<div><style>\n",
       ".dataframe > thead > tr,\n",
       ".dataframe > tbody > tr {\n",
       "  text-align: right;\n",
       "  white-space: pre-wrap;\n",
       "}\n",
       "</style>\n",
       "<small>shape: (13, 9)</small><table border=\"1\" class=\"dataframe\"><thead><tr><th>txn_id</th><th>txndate</th><th>pid</th><th>pname</th><th>price</th><th>quantity</th><th>cust_id</th><th>country</th><th>payment</th></tr><tr><td>str</td><td>date</td><td>str</td><td>str</td><td>f64</td><td>i64</td><td>str</td><td>str</td><td>f64</td></tr></thead><tbody><tr><td>&quot;580173&quot;</td><td>2019-12-02</td><td>&quot;22423&quot;</td><td>&quot;Regency Cakestand 3 Tier&quot;</td><td>6.19</td><td>2</td><td>&quot;18282&quot;</td><td>&quot;United Kingdom&quot;</td><td>12.38</td></tr><tr><td>&quot;580173&quot;</td><td>2019-12-02</td><td>&quot;22699&quot;</td><td>&quot;Roses Regency Teacup And Sauce…</td><td>6.19</td><td>6</td><td>&quot;18282&quot;</td><td>&quot;United Kingdom&quot;</td><td>37.14</td></tr><tr><td>&quot;580173&quot;</td><td>2019-12-02</td><td>&quot;22818&quot;</td><td>&quot;Card Christmas Village&quot;</td><td>6.19</td><td>12</td><td>&quot;18282&quot;</td><td>&quot;United Kingdom&quot;</td><td>74.28</td></tr><tr><td>&quot;580173&quot;</td><td>2019-12-02</td><td>&quot;23174&quot;</td><td>&quot;Regency Sugar Bowl Green&quot;</td><td>6.19</td><td>4</td><td>&quot;18282&quot;</td><td>&quot;United Kingdom&quot;</td><td>24.76</td></tr><tr><td>&quot;580173&quot;</td><td>2019-12-02</td><td>&quot;23175&quot;</td><td>&quot;Regency Milk Jug Pink&quot;</td><td>6.19</td><td>4</td><td>&quot;18282&quot;</td><td>&quot;United Kingdom&quot;</td><td>24.76</td></tr><tr><td>&hellip;</td><td>&hellip;</td><td>&hellip;</td><td>&hellip;</td><td>&hellip;</td><td>&hellip;</td><td>&hellip;</td><td>&hellip;</td><td>&hellip;</td></tr><tr><td>&quot;562525&quot;</td><td>2019-08-05</td><td>&quot;23187&quot;</td><td>&quot;French Style Storage Jar Bonbo…</td><td>10.55</td><td>48</td><td>&quot;18282&quot;</td><td>&quot;United Kingdom&quot;</td><td>506.4</td></tr><tr><td>&quot;562525&quot;</td><td>2019-08-05</td><td>&quot;23295&quot;</td><td>&quot;Set Of 12 Mini Loaf Baking Cas…</td><td>11.1</td><td>8</td><td>&quot;18282&quot;</td><td>&quot;United Kingdom&quot;</td><td>88.8</td></tr><tr><td>&quot;562525&quot;</td><td>2019-08-05</td><td>&quot;22089&quot;</td><td>&quot;Paper Bunting Vintage Paisley&quot;</td><td>13.27</td><td>6</td><td>&quot;18282&quot;</td><td>&quot;United Kingdom&quot;</td><td>79.62</td></tr><tr><td>&quot;562525&quot;</td><td>2019-08-05</td><td>&quot;21108&quot;</td><td>&quot;Fairy Cake Flannel Assorted Co…</td><td>12.86</td><td>9</td><td>&quot;18282&quot;</td><td>&quot;United Kingdom&quot;</td><td>115.74</td></tr><tr><td>&quot;562525&quot;</td><td>2019-08-05</td><td>&quot;21109&quot;</td><td>&quot;Large Cake Towel Chocolate Spo…</td><td>17.17</td><td>2</td><td>&quot;18282&quot;</td><td>&quot;United Kingdom&quot;</td><td>34.34</td></tr></tbody></table></div>"
      ],
      "text/plain": [
       "shape: (13, 9)\n",
       "┌────────┬────────────┬───────┬────────────────┬───┬──────────┬─────────┬────────────────┬─────────┐\n",
       "│ txn_id ┆ txndate    ┆ pid   ┆ pname          ┆ … ┆ quantity ┆ cust_id ┆ country        ┆ payment │\n",
       "│ ---    ┆ ---        ┆ ---   ┆ ---            ┆   ┆ ---      ┆ ---     ┆ ---            ┆ ---     │\n",
       "│ str    ┆ date       ┆ str   ┆ str            ┆   ┆ i64      ┆ str     ┆ str            ┆ f64     │\n",
       "╞════════╪════════════╪═══════╪════════════════╪═══╪══════════╪═════════╪════════════════╪═════════╡\n",
       "│ 580173 ┆ 2019-12-02 ┆ 22423 ┆ Regency        ┆ … ┆ 2        ┆ 18282   ┆ United Kingdom ┆ 12.38   │\n",
       "│        ┆            ┆       ┆ Cakestand 3    ┆   ┆          ┆         ┆                ┆         │\n",
       "│        ┆            ┆       ┆ Tier           ┆   ┆          ┆         ┆                ┆         │\n",
       "│ 580173 ┆ 2019-12-02 ┆ 22699 ┆ Roses Regency  ┆ … ┆ 6        ┆ 18282   ┆ United Kingdom ┆ 37.14   │\n",
       "│        ┆            ┆       ┆ Teacup And     ┆   ┆          ┆         ┆                ┆         │\n",
       "│        ┆            ┆       ┆ Sauce…         ┆   ┆          ┆         ┆                ┆         │\n",
       "│ 580173 ┆ 2019-12-02 ┆ 22818 ┆ Card Christmas ┆ … ┆ 12       ┆ 18282   ┆ United Kingdom ┆ 74.28   │\n",
       "│        ┆            ┆       ┆ Village        ┆   ┆          ┆         ┆                ┆         │\n",
       "│ 580173 ┆ 2019-12-02 ┆ 23174 ┆ Regency Sugar  ┆ … ┆ 4        ┆ 18282   ┆ United Kingdom ┆ 24.76   │\n",
       "│        ┆            ┆       ┆ Bowl Green     ┆   ┆          ┆         ┆                ┆         │\n",
       "│ 580173 ┆ 2019-12-02 ┆ 23175 ┆ Regency Milk   ┆ … ┆ 4        ┆ 18282   ┆ United Kingdom ┆ 24.76   │\n",
       "│        ┆            ┆       ┆ Jug Pink       ┆   ┆          ┆         ┆                ┆         │\n",
       "│ …      ┆ …          ┆ …     ┆ …              ┆ … ┆ …        ┆ …       ┆ …              ┆ …       │\n",
       "│ 562525 ┆ 2019-08-05 ┆ 23187 ┆ French Style   ┆ … ┆ 48       ┆ 18282   ┆ United Kingdom ┆ 506.4   │\n",
       "│        ┆            ┆       ┆ Storage Jar    ┆   ┆          ┆         ┆                ┆         │\n",
       "│        ┆            ┆       ┆ Bonbo…         ┆   ┆          ┆         ┆                ┆         │\n",
       "│ 562525 ┆ 2019-08-05 ┆ 23295 ┆ Set Of 12 Mini ┆ … ┆ 8        ┆ 18282   ┆ United Kingdom ┆ 88.8    │\n",
       "│        ┆            ┆       ┆ Loaf Baking    ┆   ┆          ┆         ┆                ┆         │\n",
       "│        ┆            ┆       ┆ Cas…           ┆   ┆          ┆         ┆                ┆         │\n",
       "│ 562525 ┆ 2019-08-05 ┆ 22089 ┆ Paper Bunting  ┆ … ┆ 6        ┆ 18282   ┆ United Kingdom ┆ 79.62   │\n",
       "│        ┆            ┆       ┆ Vintage        ┆   ┆          ┆         ┆                ┆         │\n",
       "│        ┆            ┆       ┆ Paisley        ┆   ┆          ┆         ┆                ┆         │\n",
       "│ 562525 ┆ 2019-08-05 ┆ 21108 ┆ Fairy Cake     ┆ … ┆ 9        ┆ 18282   ┆ United Kingdom ┆ 115.74  │\n",
       "│        ┆            ┆       ┆ Flannel        ┆   ┆          ┆         ┆                ┆         │\n",
       "│        ┆            ┆       ┆ Assorted Co…   ┆   ┆          ┆         ┆                ┆         │\n",
       "│ 562525 ┆ 2019-08-05 ┆ 21109 ┆ Large Cake     ┆ … ┆ 2        ┆ 18282   ┆ United Kingdom ┆ 34.34   │\n",
       "│        ┆            ┆       ┆ Towel          ┆   ┆          ┆         ┆                ┆         │\n",
       "│        ┆            ┆       ┆ Chocolate Spo… ┆   ┆          ┆         ┆                ┆         │\n",
       "└────────┴────────────┴───────┴────────────────┴───┴──────────┴─────────┴────────────────┴─────────┘"
      ]
     },
     "execution_count": 10,
     "metadata": {},
     "output_type": "execute_result"
    }
   ],
   "source": [
    "aa"
   ]
  },
  {
   "cell_type": "code",
   "execution_count": null,
   "metadata": {},
   "outputs": [],
   "source": []
  }
 ],
 "metadata": {
  "kernelspec": {
   "display_name": ".venv",
   "language": "python",
   "name": "python3"
  },
  "language_info": {
   "codemirror_mode": {
    "name": "ipython",
    "version": 3
   },
   "file_extension": ".py",
   "mimetype": "text/x-python",
   "name": "python",
   "nbconvert_exporter": "python",
   "pygments_lexer": "ipython3",
   "version": "3.11.9"
  }
 },
 "nbformat": 4,
 "nbformat_minor": 2
}
