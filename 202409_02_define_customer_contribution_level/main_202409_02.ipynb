{
 "cells": [
  {
   "cell_type": "markdown",
   "metadata": {},
   "source": [
    "# __Define customer contribution level__\n",
    "The contribution level is a classic dimension for understanding your customer’s profile.\n",
    "> * We usually use frequency and monetary together to define different contribution levels.\n",
    "> * We can use the historical data to find a general threshold for categorizing.\n",
    "\n",
    "Google Slides: [Link](https://docs.google.com/presentation/d/1-bUFYXNqBQrPCJRRppxEoC-Mp1N_T8Ii3D95861M2Kw/edit?usp=sharing)"
   ]
  },
  {
   "cell_type": "markdown",
   "metadata": {},
   "source": [
    "---"
   ]
  },
  {
   "cell_type": "markdown",
   "metadata": {},
   "source": [
    "## __Import source data__\n",
    "Data source: Simulated and pre-aggregated by *memberid* and *txndate*.    \n",
    "You can downloand the data [here](https://drive.google.com/file/d/1qA4PhPCuID3cG3RL-TT_uK7X3i4fSI3N/view?usp=sharing) if you want to reproduce the source data."
   ]
  },
  {
   "cell_type": "code",
   "execution_count": 1,
   "metadata": {},
   "outputs": [],
   "source": [
    "import polars as pl\n",
    "import seaborn as sb\n",
    "import matplotlib.pyplot as plt\n",
    "from dateutil.relativedelta import relativedelta\n",
    "    \n",
    "aggdata = pl.read_csv(\"../data_source/simulation_data/aggData_byDay.csv\", try_parse_dates = True)"
   ]
  },
  {
   "cell_type": "code",
   "execution_count": 2,
   "metadata": {},
   "outputs": [
    {
     "data": {
      "text/html": [
       "<div><style>\n",
       ".dataframe > thead > tr,\n",
       ".dataframe > tbody > tr {\n",
       "  text-align: right;\n",
       "  white-space: pre-wrap;\n",
       "}\n",
       "</style>\n",
       "<small>shape: (171_621, 11)</small><table border=\"1\" class=\"dataframe\"><thead><tr><th>memberid</th><th>txndate</th><th>sum_total_price</th><th>sum_pay</th><th>sum_cart</th><th>gap</th><th>rev_gap</th><th>seq</th><th>rev_seq</th><th>sum_discnt</th><th>txnYM</th></tr><tr><td>str</td><td>date</td><td>i64</td><td>i64</td><td>i64</td><td>i64</td><td>i64</td><td>f64</td><td>f64</td><td>i64</td><td>date</td></tr></thead><tbody><tr><td>&quot;m0000001&quot;</td><td>2019-12-27</td><td>2590</td><td>2590</td><td>1</td><td>null</td><td>null</td><td>1.0</td><td>1.0</td><td>0</td><td>2019-12-01</td></tr><tr><td>&quot;m0000002&quot;</td><td>2019-12-27</td><td>4840</td><td>4840</td><td>1</td><td>null</td><td>null</td><td>1.0</td><td>1.0</td><td>0</td><td>2019-12-01</td></tr><tr><td>&quot;m0000003&quot;</td><td>2019-12-27</td><td>7080</td><td>0</td><td>1</td><td>null</td><td>null</td><td>1.0</td><td>1.0</td><td>7080</td><td>2019-12-01</td></tr><tr><td>&quot;m0000004&quot;</td><td>2019-12-27</td><td>7610</td><td>7610</td><td>1</td><td>null</td><td>null</td><td>1.0</td><td>1.0</td><td>0</td><td>2019-12-01</td></tr><tr><td>&quot;m0000005&quot;</td><td>2019-12-27</td><td>3810</td><td>3810</td><td>1</td><td>null</td><td>null</td><td>1.0</td><td>1.0</td><td>0</td><td>2019-12-01</td></tr><tr><td>&hellip;</td><td>&hellip;</td><td>&hellip;</td><td>&hellip;</td><td>&hellip;</td><td>&hellip;</td><td>&hellip;</td><td>&hellip;</td><td>&hellip;</td><td>&hellip;</td><td>&hellip;</td></tr><tr><td>&quot;m0513156&quot;</td><td>2019-12-31</td><td>15060</td><td>13550</td><td>1</td><td>null</td><td>null</td><td>1.0</td><td>1.0</td><td>1510</td><td>2019-12-01</td></tr><tr><td>&quot;m0513157&quot;</td><td>2019-12-31</td><td>6440</td><td>4510</td><td>1</td><td>null</td><td>null</td><td>1.0</td><td>1.0</td><td>1930</td><td>2019-12-01</td></tr><tr><td>&quot;m0513158&quot;</td><td>2019-12-31</td><td>15060</td><td>10540</td><td>1</td><td>null</td><td>null</td><td>1.0</td><td>1.0</td><td>4520</td><td>2019-12-01</td></tr><tr><td>&quot;m0513159&quot;</td><td>2019-12-31</td><td>8880</td><td>6220</td><td>1</td><td>null</td><td>null</td><td>1.0</td><td>1.0</td><td>2660</td><td>2019-12-01</td></tr><tr><td>&quot;m0513160&quot;</td><td>2017-08-19</td><td>1560</td><td>1420</td><td>1</td><td>null</td><td>null</td><td>1.0</td><td>1.0</td><td>140</td><td>2017-08-01</td></tr></tbody></table></div>"
      ],
      "text/plain": [
       "shape: (171_621, 11)\n",
       "┌──────────┬────────────┬─────────────────┬─────────┬───┬─────┬─────────┬────────────┬────────────┐\n",
       "│ memberid ┆ txndate    ┆ sum_total_price ┆ sum_pay ┆ … ┆ seq ┆ rev_seq ┆ sum_discnt ┆ txnYM      │\n",
       "│ ---      ┆ ---        ┆ ---             ┆ ---     ┆   ┆ --- ┆ ---     ┆ ---        ┆ ---        │\n",
       "│ str      ┆ date       ┆ i64             ┆ i64     ┆   ┆ f64 ┆ f64     ┆ i64        ┆ date       │\n",
       "╞══════════╪════════════╪═════════════════╪═════════╪═══╪═════╪═════════╪════════════╪════════════╡\n",
       "│ m0000001 ┆ 2019-12-27 ┆ 2590            ┆ 2590    ┆ … ┆ 1.0 ┆ 1.0     ┆ 0          ┆ 2019-12-01 │\n",
       "│ m0000002 ┆ 2019-12-27 ┆ 4840            ┆ 4840    ┆ … ┆ 1.0 ┆ 1.0     ┆ 0          ┆ 2019-12-01 │\n",
       "│ m0000003 ┆ 2019-12-27 ┆ 7080            ┆ 0       ┆ … ┆ 1.0 ┆ 1.0     ┆ 7080       ┆ 2019-12-01 │\n",
       "│ m0000004 ┆ 2019-12-27 ┆ 7610            ┆ 7610    ┆ … ┆ 1.0 ┆ 1.0     ┆ 0          ┆ 2019-12-01 │\n",
       "│ m0000005 ┆ 2019-12-27 ┆ 3810            ┆ 3810    ┆ … ┆ 1.0 ┆ 1.0     ┆ 0          ┆ 2019-12-01 │\n",
       "│ …        ┆ …          ┆ …               ┆ …       ┆ … ┆ …   ┆ …       ┆ …          ┆ …          │\n",
       "│ m0513156 ┆ 2019-12-31 ┆ 15060           ┆ 13550   ┆ … ┆ 1.0 ┆ 1.0     ┆ 1510       ┆ 2019-12-01 │\n",
       "│ m0513157 ┆ 2019-12-31 ┆ 6440            ┆ 4510    ┆ … ┆ 1.0 ┆ 1.0     ┆ 1930       ┆ 2019-12-01 │\n",
       "│ m0513158 ┆ 2019-12-31 ┆ 15060           ┆ 10540   ┆ … ┆ 1.0 ┆ 1.0     ┆ 4520       ┆ 2019-12-01 │\n",
       "│ m0513159 ┆ 2019-12-31 ┆ 8880            ┆ 6220    ┆ … ┆ 1.0 ┆ 1.0     ┆ 2660       ┆ 2019-12-01 │\n",
       "│ m0513160 ┆ 2017-08-19 ┆ 1560            ┆ 1420    ┆ … ┆ 1.0 ┆ 1.0     ┆ 140        ┆ 2017-08-01 │\n",
       "└──────────┴────────────┴─────────────────┴─────────┴───┴─────┴─────────┴────────────┴────────────┘"
      ]
     },
     "execution_count": 2,
     "metadata": {},
     "output_type": "execute_result"
    }
   ],
   "source": [
    "aggdata"
   ]
  },
  {
   "cell_type": "markdown",
   "metadata": {},
   "source": [
    "time duration:"
   ]
  },
  {
   "cell_type": "code",
   "execution_count": 3,
   "metadata": {},
   "outputs": [
    {
     "data": {
      "text/html": [
       "<div><style>\n",
       ".dataframe > thead > tr,\n",
       ".dataframe > tbody > tr {\n",
       "  text-align: right;\n",
       "  white-space: pre-wrap;\n",
       "}\n",
       "</style>\n",
       "<small>shape: (1, 3)</small><table border=\"1\" class=\"dataframe\"><thead><tr><th>min_ym</th><th>max_ym</th><th>len_months</th></tr><tr><td>date</td><td>date</td><td>u32</td></tr></thead><tbody><tr><td>2016-07-01</td><td>2019-12-01</td><td>42</td></tr></tbody></table></div>"
      ],
      "text/plain": [
       "shape: (1, 3)\n",
       "┌────────────┬────────────┬────────────┐\n",
       "│ min_ym     ┆ max_ym     ┆ len_months │\n",
       "│ ---        ┆ ---        ┆ ---        │\n",
       "│ date       ┆ date       ┆ u32        │\n",
       "╞════════════╪════════════╪════════════╡\n",
       "│ 2016-07-01 ┆ 2019-12-01 ┆ 42         │\n",
       "└────────────┴────────────┴────────────┘"
      ]
     },
     "execution_count": 3,
     "metadata": {},
     "output_type": "execute_result"
    }
   ],
   "source": [
    "(\n",
    "    aggdata\n",
    "    .select(\n",
    "        pl.col('txnYM').min().alias('min_ym'),\n",
    "        pl.col('txnYM').max().alias('max_ym'),\n",
    "        pl.col('txnYM').n_unique().alias('len_months')\n",
    "    )\n",
    ")"
   ]
  },
  {
   "cell_type": "markdown",
   "metadata": {},
   "source": [
    "---"
   ]
  },
  {
   "cell_type": "markdown",
   "metadata": {},
   "source": [
    "## __Trend of monthly frequency and monetary categorized threshold__.\n",
    "We calculate the frequency and monetary over the last 12 months. And we repeat the rolling process 24 times."
   ]
  },
  {
   "cell_type": "code",
   "execution_count": 4,
   "metadata": {},
   "outputs": [
    {
     "data": {
      "text/html": [
       "<div><style>\n",
       ".dataframe > thead > tr,\n",
       ".dataframe > tbody > tr {\n",
       "  text-align: right;\n",
       "  white-space: pre-wrap;\n",
       "}\n",
       "</style>\n",
       "<small>shape: (24,)</small><table border=\"1\" class=\"dataframe\"><thead><tr><th>txnYM</th></tr><tr><td>date</td></tr></thead><tbody><tr><td>2018-01-01</td></tr><tr><td>2018-02-01</td></tr><tr><td>2018-03-01</td></tr><tr><td>2018-04-01</td></tr><tr><td>2018-05-01</td></tr><tr><td>&hellip;</td></tr><tr><td>2019-08-01</td></tr><tr><td>2019-09-01</td></tr><tr><td>2019-10-01</td></tr><tr><td>2019-11-01</td></tr><tr><td>2019-12-01</td></tr></tbody></table></div>"
      ],
      "text/plain": [
       "shape: (24,)\n",
       "Series: 'txnYM' [date]\n",
       "[\n",
       "\t2018-01-01\n",
       "\t2018-02-01\n",
       "\t2018-03-01\n",
       "\t2018-04-01\n",
       "\t2018-05-01\n",
       "\t…\n",
       "\t2019-08-01\n",
       "\t2019-09-01\n",
       "\t2019-10-01\n",
       "\t2019-11-01\n",
       "\t2019-12-01\n",
       "]"
      ]
     },
     "execution_count": 4,
     "metadata": {},
     "output_type": "execute_result"
    }
   ],
   "source": [
    "# create year-month list\n",
    "full_month_list = aggdata.select('txnYM').unique().to_series().sort()\n",
    "\n",
    "# focus on the last 12 months data to evaluate the result\n",
    "sub_month_list = full_month_list.tail(24)\n",
    "sub_month_list"
   ]
  },
  {
   "cell_type": "code",
   "execution_count": 5,
   "metadata": {},
   "outputs": [
    {
     "data": {
      "text/html": [
       "<div><style>\n",
       ".dataframe > thead > tr,\n",
       ".dataframe > tbody > tr {\n",
       "  text-align: right;\n",
       "  white-space: pre-wrap;\n",
       "}\n",
       "</style>\n",
       "<small>shape: (192, 4)</small><table border=\"1\" class=\"dataframe\"><thead><tr><th>end_ym</th><th>index</th><th>level</th><th>lower_bound</th></tr><tr><td>date</td><td>str</td><td>enum</td><td>f32</td></tr></thead><tbody><tr><td>2018-01-01</td><td>&quot;sec_n_days&quot;</td><td>&quot;T&quot;</td><td>5.0</td></tr><tr><td>2018-01-01</td><td>&quot;sec_n_days&quot;</td><td>&quot;H&quot;</td><td>3.0</td></tr><tr><td>2018-01-01</td><td>&quot;sec_n_days&quot;</td><td>&quot;M&quot;</td><td>2.0</td></tr><tr><td>2018-01-01</td><td>&quot;sec_n_days&quot;</td><td>&quot;L&quot;</td><td>1.0</td></tr><tr><td>2018-01-01</td><td>&quot;sec_sum_pay&quot;</td><td>&quot;T&quot;</td><td>71470.0</td></tr><tr><td>&hellip;</td><td>&hellip;</td><td>&hellip;</td><td>&hellip;</td></tr><tr><td>2019-12-01</td><td>&quot;sec_n_days&quot;</td><td>&quot;L&quot;</td><td>1.0</td></tr><tr><td>2019-12-01</td><td>&quot;sec_sum_pay&quot;</td><td>&quot;T&quot;</td><td>72820.0</td></tr><tr><td>2019-12-01</td><td>&quot;sec_sum_pay&quot;</td><td>&quot;H&quot;</td><td>33290.0</td></tr><tr><td>2019-12-01</td><td>&quot;sec_sum_pay&quot;</td><td>&quot;M&quot;</td><td>14430.0</td></tr><tr><td>2019-12-01</td><td>&quot;sec_sum_pay&quot;</td><td>&quot;L&quot;</td><td>0.0</td></tr></tbody></table></div>"
      ],
      "text/plain": [
       "shape: (192, 4)\n",
       "┌────────────┬─────────────┬───────┬─────────────┐\n",
       "│ end_ym     ┆ index       ┆ level ┆ lower_bound │\n",
       "│ ---        ┆ ---         ┆ ---   ┆ ---         │\n",
       "│ date       ┆ str         ┆ enum  ┆ f32         │\n",
       "╞════════════╪═════════════╪═══════╪═════════════╡\n",
       "│ 2018-01-01 ┆ sec_n_days  ┆ T     ┆ 5.0         │\n",
       "│ 2018-01-01 ┆ sec_n_days  ┆ H     ┆ 3.0         │\n",
       "│ 2018-01-01 ┆ sec_n_days  ┆ M     ┆ 2.0         │\n",
       "│ 2018-01-01 ┆ sec_n_days  ┆ L     ┆ 1.0         │\n",
       "│ 2018-01-01 ┆ sec_sum_pay ┆ T     ┆ 71470.0     │\n",
       "│ …          ┆ …           ┆ …     ┆ …           │\n",
       "│ 2019-12-01 ┆ sec_n_days  ┆ L     ┆ 1.0         │\n",
       "│ 2019-12-01 ┆ sec_sum_pay ┆ T     ┆ 72820.0     │\n",
       "│ 2019-12-01 ┆ sec_sum_pay ┆ H     ┆ 33290.0     │\n",
       "│ 2019-12-01 ┆ sec_sum_pay ┆ M     ┆ 14430.0     │\n",
       "│ 2019-12-01 ┆ sec_sum_pay ┆ L     ┆ 0.0         │\n",
       "└────────────┴─────────────┴───────┴─────────────┘"
      ]
     },
     "execution_count": 5,
     "metadata": {},
     "output_type": "execute_result"
    }
   ],
   "source": [
    "import sys\n",
    "\n",
    "sys.path.append(\"../func_source\")\n",
    "from func_basic import continuous_mean_grouping\n",
    "\n",
    "trend_rst = pl.DataFrame()\n",
    "for i in range(len(sub_month_list)):\n",
    "    \n",
    "    end_month = sub_month_list[i]\n",
    "    ref_month = end_month - relativedelta(years = 1)\n",
    "\n",
    "    aggId_section = (\n",
    "        aggdata\n",
    "        .filter((pl.col('txnYM') <= end_month) & (pl.col('txnYM') > ref_month))\n",
    "        .group_by('memberid')\n",
    "        .agg(\n",
    "            sec_n_days = pl.col('txndate').count(),\n",
    "            sec_sum_pay = pl.col('sum_pay').sum()\n",
    "        )\n",
    "        .sort(by = 'memberid')\n",
    "        .with_columns(\n",
    "            level_sec_n_days = pl.col('sec_n_days').map_batches(lambda x: continuous_mean_grouping(x, n_group = 4, high_to_low_name = ['T', 'H', 'M', 'L'])),\n",
    "            level_sec_sum_pay = pl.col('sec_sum_pay').map_batches(lambda x: continuous_mean_grouping(x, n_group = 4, high_to_low_name = ['T', 'H', 'M', 'L'])),\n",
    "        )\n",
    "    )\n",
    "\n",
    "    tb_n_days = (\n",
    "        aggId_section\n",
    "        .group_by('level_sec_n_days')\n",
    "        .agg(\n",
    "            lower_bound = pl.col('sec_n_days').min().cast(pl.Float32)\n",
    "        )\n",
    "        .with_columns(\n",
    "            index = pl.lit(\"sec_n_days\")\n",
    "        )\n",
    "        .rename({\"level_sec_n_days\": \"level\"})\n",
    "        .sort(by = 'level')\n",
    "    )\n",
    "\n",
    "    tb_sum_pay = (\n",
    "        aggId_section\n",
    "        .group_by('level_sec_sum_pay')\n",
    "        .agg(\n",
    "            lower_bound = pl.col('sec_sum_pay').min().cast(pl.Float32)\n",
    "        )\n",
    "        .with_columns(\n",
    "            index = pl.lit(\"sec_sum_pay\")\n",
    "        )\n",
    "        .rename({\"level_sec_sum_pay\": \"level\"})\n",
    "        .sort(by = 'level')\n",
    "    )\n",
    "\n",
    "    tmp_rst = (\n",
    "        pl.concat([tb_n_days, tb_sum_pay])\n",
    "        .with_columns(\n",
    "            end_ym = end_month\n",
    "        )\n",
    "        .select(['end_ym', 'index', 'level', 'lower_bound'])\n",
    "        \n",
    "    )\n",
    "\n",
    "    trend_rst = pl.concat([trend_rst, tmp_rst])\n",
    "\n",
    "\n",
    "trend_rst"
   ]
  },
  {
   "cell_type": "markdown",
   "metadata": {},
   "source": [
    "The trend of lower bound."
   ]
  },
  {
   "cell_type": "code",
   "execution_count": 6,
   "metadata": {},
   "outputs": [
    {
     "data": {
      "image/png": "[encoded data removed]",
      "text/plain": [
       "<Figure size 800x1000 with 2 Axes>"
      ]
     },
     "metadata": {},
     "output_type": "display_data"
    }
   ],
   "source": [
    "fig, axes = plt.subplots(2, 1, figsize=(8, 10))\n",
    "g1 = sb.lineplot(data = trend_rst.filter(pl.col('index') == \"sec_n_days\"), x = \"end_ym\", y = \"lower_bound\", hue = \"level\", ax = axes[0])\n",
    "g2 = sb.lineplot(data = trend_rst.filter(pl.col('index') == \"sec_sum_pay\"), x = \"end_ym\", y = \"lower_bound\", hue = \"level\", ax = axes[1])\n",
    "g1.title.set_text(\"Section Number of Purchase\")\n",
    "g2.title.set_text(\"Section Total Payment\")"
   ]
  },
  {
   "cell_type": "markdown",
   "metadata": {},
   "source": [
    "The average of these lower bounds."
   ]
  },
  {
   "cell_type": "code",
   "execution_count": 7,
   "metadata": {},
   "outputs": [
    {
     "data": {
      "text/html": [
       "<div><style>\n",
       ".dataframe > thead > tr,\n",
       ".dataframe > tbody > tr {\n",
       "  text-align: right;\n",
       "  white-space: pre-wrap;\n",
       "}\n",
       "</style>\n",
       "<small>shape: (4, 3)</small><table border=\"1\" class=\"dataframe\"><thead><tr><th>level</th><th>sec_sum_pay</th><th>sec_n_days</th></tr><tr><td>enum</td><td>f32</td><td>f32</td></tr></thead><tbody><tr><td>&quot;T&quot;</td><td>74527.0</td><td>5.0</td></tr><tr><td>&quot;H&quot;</td><td>33563.0</td><td>3.0</td></tr><tr><td>&quot;M&quot;</td><td>14453.0</td><td>2.0</td></tr><tr><td>&quot;L&quot;</td><td>0.0</td><td>1.0</td></tr></tbody></table></div>"
      ],
      "text/plain": [
       "shape: (4, 3)\n",
       "┌───────┬─────────────┬────────────┐\n",
       "│ level ┆ sec_sum_pay ┆ sec_n_days │\n",
       "│ ---   ┆ ---         ┆ ---        │\n",
       "│ enum  ┆ f32         ┆ f32        │\n",
       "╞═══════╪═════════════╪════════════╡\n",
       "│ T     ┆ 74527.0     ┆ 5.0        │\n",
       "│ H     ┆ 33563.0     ┆ 3.0        │\n",
       "│ M     ┆ 14453.0     ┆ 2.0        │\n",
       "│ L     ┆ 0.0         ┆ 1.0        │\n",
       "└───────┴─────────────┴────────────┘"
      ]
     },
     "execution_count": 7,
     "metadata": {},
     "output_type": "execute_result"
    }
   ],
   "source": [
    "threshold_reference = (\n",
    "    trend_rst\n",
    "    .group_by('index', 'level')\n",
    "    .agg(lower_bound = pl.col('lower_bound').mean())\n",
    "    .with_columns(pl.col('lower_bound').ceil())\n",
    "    .sort(by = \"level\")\n",
    "    .pivot(on = \"index\", index = \"level\", values = \"lower_bound\")\n",
    ")\n",
    "\n",
    "threshold_reference"
   ]
  },
  {
   "cell_type": "markdown",
   "metadata": {},
   "source": [
    "---"
   ]
  },
  {
   "cell_type": "markdown",
   "metadata": {},
   "source": [
    "## __Define the Tier 1 to 4 by the general threshhold.__\n"
   ]
  },
  {
   "cell_type": "code",
   "execution_count": 8,
   "metadata": {},
   "outputs": [],
   "source": [
    "freq_info = threshold_reference.select('sec_n_days').to_series()\n",
    "freq_T, freq_H, freq_M, freq_L = freq_info[:4]\n",
    "\n",
    "monetary_info = threshold_reference.select('sec_sum_pay').to_series()\n",
    "pay_T, pay_H, pay_M, pay_L = monetary_info[:4]"
   ]
  },
  {
   "cell_type": "code",
   "execution_count": 9,
   "metadata": {},
   "outputs": [
    {
     "data": {
      "text/html": [
       "<div><style>\n",
       ".dataframe > thead > tr,\n",
       ".dataframe > tbody > tr {\n",
       "  text-align: right;\n",
       "  white-space: pre-wrap;\n",
       "}\n",
       "</style>\n",
       "<small>shape: (4, 2)</small><table border=\"1\" class=\"dataframe\"><thead><tr><th>section_value_index</th><th>condition_description</th></tr><tr><td>str</td><td>str</td></tr></thead><tbody><tr><td>&quot;L1&quot;</td><td>&quot;In the last 12 months: Frequen…</td></tr><tr><td>&quot;L2&quot;</td><td>&quot;In the last 12 months: Frequen…</td></tr><tr><td>&quot;L3&quot;</td><td>&quot;In the last 12 months: Frequen…</td></tr><tr><td>&quot;L4&quot;</td><td>&quot;In the last 12 months: Frequen…</td></tr></tbody></table></div>"
      ],
      "text/plain": [
       "shape: (4, 2)\n",
       "┌─────────────────────┬─────────────────────────────────┐\n",
       "│ section_value_index ┆ condition_description           │\n",
       "│ ---                 ┆ ---                             │\n",
       "│ str                 ┆ str                             │\n",
       "╞═════════════════════╪═════════════════════════════════╡\n",
       "│ L1                  ┆ In the last 12 months: Frequen… │\n",
       "│ L2                  ┆ In the last 12 months: Frequen… │\n",
       "│ L3                  ┆ In the last 12 months: Frequen… │\n",
       "│ L4                  ┆ In the last 12 months: Frequen… │\n",
       "└─────────────────────┴─────────────────────────────────┘"
      ]
     },
     "execution_count": 9,
     "metadata": {},
     "output_type": "execute_result"
    }
   ],
   "source": [
    "tmp_dict = {\n",
    "    \"L1\": f\"In the last 12 months: Frequency >= {freq_T:,.0f} and Monetary >= {pay_T:,.0f}\",\n",
    "    \"L2\": f\"In the last 12 months: Frequency >= {freq_H:,.0f} and Monetary >= {pay_H:,.0f}\",\n",
    "    \"L3\": f\"In the last 12 months: Frequency >= {freq_M:,.0f} and Monetary >= {pay_M:,.0f}\",\n",
    "    \"L4\": f\"In the last 12 months: Frequency >= {freq_L:,.0f} and Monetary >= {pay_L:,.0f}\",\n",
    "}\n",
    "\n",
    "section_condition_tb = (\n",
    "    pl.from_dict(tmp_dict)\n",
    "    .unpivot(variable_name = \"section_value_index\", value_name = \"condition_description\")\n",
    ")\n",
    "\n",
    "section_condition_tb"
   ]
  },
  {
   "cell_type": "code",
   "execution_count": 10,
   "metadata": {},
   "outputs": [
    {
     "data": {
      "text/html": [
       "<div><style>\n",
       ".dataframe > thead > tr,\n",
       ".dataframe > tbody > tr {\n",
       "  text-align: right;\n",
       "  white-space: pre-wrap;\n",
       "}\n",
       "</style>\n",
       "<small>shape: (85_044, 8)</small><table border=\"1\" class=\"dataframe\"><thead><tr><th>memberid</th><th>n_days</th><th>sum_pay</th><th>section_n_days</th><th>section_sum_pay</th><th>section_n_days_level</th><th>section_sum_pay_level</th><th>section_value_index</th></tr><tr><td>str</td><td>u32</td><td>i64</td><td>u32</td><td>i64</td><td>cat</td><td>cat</td><td>enum</td></tr></thead><tbody><tr><td>&quot;m0000001&quot;</td><td>1</td><td>2590</td><td>1</td><td>2590</td><td>&quot;L&quot;</td><td>&quot;L&quot;</td><td>&quot;T4&quot;</td></tr><tr><td>&quot;m0000002&quot;</td><td>1</td><td>4840</td><td>1</td><td>4840</td><td>&quot;L&quot;</td><td>&quot;L&quot;</td><td>&quot;T4&quot;</td></tr><tr><td>&quot;m0000003&quot;</td><td>1</td><td>0</td><td>1</td><td>0</td><td>&quot;L&quot;</td><td>&quot;L&quot;</td><td>&quot;T4&quot;</td></tr><tr><td>&quot;m0000004&quot;</td><td>1</td><td>7610</td><td>1</td><td>7610</td><td>&quot;L&quot;</td><td>&quot;L&quot;</td><td>&quot;T4&quot;</td></tr><tr><td>&quot;m0000005&quot;</td><td>1</td><td>3810</td><td>1</td><td>3810</td><td>&quot;L&quot;</td><td>&quot;L&quot;</td><td>&quot;T4&quot;</td></tr><tr><td>&hellip;</td><td>&hellip;</td><td>&hellip;</td><td>&hellip;</td><td>&hellip;</td><td>&hellip;</td><td>&hellip;</td><td>&hellip;</td></tr><tr><td>&quot;m0513156&quot;</td><td>1</td><td>13550</td><td>1</td><td>13550</td><td>&quot;L&quot;</td><td>&quot;L&quot;</td><td>&quot;T4&quot;</td></tr><tr><td>&quot;m0513157&quot;</td><td>1</td><td>4510</td><td>1</td><td>4510</td><td>&quot;L&quot;</td><td>&quot;L&quot;</td><td>&quot;T4&quot;</td></tr><tr><td>&quot;m0513158&quot;</td><td>1</td><td>10540</td><td>1</td><td>10540</td><td>&quot;L&quot;</td><td>&quot;L&quot;</td><td>&quot;T4&quot;</td></tr><tr><td>&quot;m0513159&quot;</td><td>1</td><td>6220</td><td>1</td><td>6220</td><td>&quot;L&quot;</td><td>&quot;L&quot;</td><td>&quot;T4&quot;</td></tr><tr><td>&quot;m0513160&quot;</td><td>1</td><td>1420</td><td>null</td><td>null</td><td>null</td><td>null</td><td>&quot;IDLE&quot;</td></tr></tbody></table></div>"
      ],
      "text/plain": [
       "shape: (85_044, 8)\n",
       "┌──────────┬────────┬─────────┬─────────────┬─────────────┬─────────────┬─────────────┬────────────┐\n",
       "│ memberid ┆ n_days ┆ sum_pay ┆ section_n_d ┆ section_sum ┆ section_n_d ┆ section_sum ┆ section_va │\n",
       "│ ---      ┆ ---    ┆ ---     ┆ ays         ┆ _pay        ┆ ays_level   ┆ _pay_level  ┆ lue_index  │\n",
       "│ str      ┆ u32    ┆ i64     ┆ ---         ┆ ---         ┆ ---         ┆ ---         ┆ ---        │\n",
       "│          ┆        ┆         ┆ u32         ┆ i64         ┆ cat         ┆ cat         ┆ enum       │\n",
       "╞══════════╪════════╪═════════╪═════════════╪═════════════╪═════════════╪═════════════╪════════════╡\n",
       "│ m0000001 ┆ 1      ┆ 2590    ┆ 1           ┆ 2590        ┆ L           ┆ L           ┆ T4         │\n",
       "│ m0000002 ┆ 1      ┆ 4840    ┆ 1           ┆ 4840        ┆ L           ┆ L           ┆ T4         │\n",
       "│ m0000003 ┆ 1      ┆ 0       ┆ 1           ┆ 0           ┆ L           ┆ L           ┆ T4         │\n",
       "│ m0000004 ┆ 1      ┆ 7610    ┆ 1           ┆ 7610        ┆ L           ┆ L           ┆ T4         │\n",
       "│ m0000005 ┆ 1      ┆ 3810    ┆ 1           ┆ 3810        ┆ L           ┆ L           ┆ T4         │\n",
       "│ …        ┆ …      ┆ …       ┆ …           ┆ …           ┆ …           ┆ …           ┆ …          │\n",
       "│ m0513156 ┆ 1      ┆ 13550   ┆ 1           ┆ 13550       ┆ L           ┆ L           ┆ T4         │\n",
       "│ m0513157 ┆ 1      ┆ 4510    ┆ 1           ┆ 4510        ┆ L           ┆ L           ┆ T4         │\n",
       "│ m0513158 ┆ 1      ┆ 10540   ┆ 1           ┆ 10540       ┆ L           ┆ L           ┆ T4         │\n",
       "│ m0513159 ┆ 1      ┆ 6220    ┆ 1           ┆ 6220        ┆ L           ┆ L           ┆ T4         │\n",
       "│ m0513160 ┆ 1      ┆ 1420    ┆ null        ┆ null        ┆ null        ┆ null        ┆ IDLE       │\n",
       "└──────────┴────────┴─────────┴─────────────┴─────────────┴─────────────┴─────────────┴────────────┘"
      ]
     },
     "execution_count": 10,
     "metadata": {},
     "output_type": "execute_result"
    }
   ],
   "source": [
    "end_month = sub_month_list[-1]\n",
    "ref_month = end_month - relativedelta(years = 1)\n",
    "\n",
    "aggId_section = (\n",
    "    aggdata\n",
    "    .filter((pl.col('txnYM') <= end_month) & (pl.col('txnYM') > ref_month))\n",
    "    .group_by('memberid')\n",
    "    .agg(\n",
    "        section_n_days = pl.col('txndate').count(),\n",
    "        section_sum_pay = pl.col('sum_pay').sum()\n",
    "    )\n",
    "    .sort(by = 'memberid')\n",
    "    .with_columns(\n",
    "        section_n_days_level = pl.col('section_n_days').cut(breaks = freq_info[:-1], labels = ['L', 'M', 'H', 'T'], left_closed = True),\n",
    "        section_sum_pay_level = pl.col('section_sum_pay').cut(breaks = monetary_info[:-1], labels = ['L', 'M', 'H', 'T'], left_closed = True)\n",
    "    )\n",
    "    .with_columns(\n",
    "            pl.when((pl.col('section_n_days_level') == \"T\") & (pl.col('section_sum_pay_level') == \"T\")).then(pl.lit('T1'))\n",
    "            .when((pl.col('section_n_days_level') == \"T\") & (pl.col('section_sum_pay_level') == \"H\")).then(pl.lit('T2'))\n",
    "            .when((pl.col('section_n_days_level') == \"H\") & (pl.col('section_sum_pay_level') == \"H\")).then(pl.lit('T2'))\n",
    "            .when((pl.col('section_n_days_level') == \"H\") & (pl.col('section_sum_pay_level') == \"T\")).then(pl.lit('T2'))\n",
    "            \n",
    "            .when((pl.col('section_n_days_level') == \"T\") & (pl.col('section_sum_pay_level') == \"M\")).then(pl.lit('T3'))\n",
    "            .when((pl.col('section_n_days_level') == \"H\") & (pl.col('section_sum_pay_level') == \"M\")).then(pl.lit('T3'))\n",
    "            .when((pl.col('section_n_days_level') == \"M\") & (pl.col('section_sum_pay_level') == \"M\")).then(pl.lit('T3'))\n",
    "            .when((pl.col('section_n_days_level') == \"M\") & (pl.col('section_sum_pay_level') == \"H\")).then(pl.lit('T3'))\n",
    "            .when((pl.col('section_n_days_level') == \"M\") & (pl.col('section_sum_pay_level') == \"T\")).then(pl.lit('T3'))\n",
    "            .otherwise(pl.lit('T4'))\n",
    "            .alias('section_value_index')\n",
    "        )\n",
    ")\n",
    "\n",
    "aggId = (\n",
    "    aggdata\n",
    "    .group_by('memberid')\n",
    "    .agg(\n",
    "        n_days = pl.col('txndate').count(),\n",
    "        sum_pay = pl.col('sum_pay').sum()\n",
    "    )\n",
    "    .sort(by = 'memberid')\n",
    "    .join(\n",
    "        aggId_section, how = \"left\", on = \"memberid\"\n",
    "    )\n",
    "    .with_columns(\n",
    "        pl.col('section_value_index').fill_null('IDLE')\n",
    "    )\n",
    "    .with_columns(\n",
    "        pl.col('section_value_index').cast(pl.Enum(['T1', 'T2', 'T3', 'T4', 'IDLE']))\n",
    "    )\n",
    ")\n",
    "\n",
    "aggId"
   ]
  },
  {
   "cell_type": "code",
   "execution_count": 11,
   "metadata": {},
   "outputs": [
    {
     "data": {
      "text/html": [
       "<div><style>\n",
       ".dataframe > thead > tr,\n",
       ".dataframe > tbody > tr {\n",
       "  text-align: right;\n",
       "  white-space: pre-wrap;\n",
       "}\n",
       "</style>\n",
       "<small>shape: (5, 2)</small><table border=\"1\" class=\"dataframe\"><thead><tr><th>section_value_index</th><th>n</th></tr><tr><td>enum</td><td>u32</td></tr></thead><tbody><tr><td>&quot;T1&quot;</td><td>236</td></tr><tr><td>&quot;T2&quot;</td><td>956</td></tr><tr><td>&quot;T3&quot;</td><td>4019</td></tr><tr><td>&quot;T4&quot;</td><td>28235</td></tr><tr><td>&quot;IDLE&quot;</td><td>51598</td></tr></tbody></table></div>"
      ],
      "text/plain": [
       "shape: (5, 2)\n",
       "┌─────────────────────┬───────┐\n",
       "│ section_value_index ┆ n     │\n",
       "│ ---                 ┆ ---   │\n",
       "│ enum                ┆ u32   │\n",
       "╞═════════════════════╪═══════╡\n",
       "│ T1                  ┆ 236   │\n",
       "│ T2                  ┆ 956   │\n",
       "│ T3                  ┆ 4019  │\n",
       "│ T4                  ┆ 28235 │\n",
       "│ IDLE                ┆ 51598 │\n",
       "└─────────────────────┴───────┘"
      ]
     },
     "execution_count": 11,
     "metadata": {},
     "output_type": "execute_result"
    }
   ],
   "source": [
    "section_value_peo = aggId.group_by('section_value_index').agg(n = pl.len()).sort(by = 'section_value_index')\n",
    "section_value_peo"
   ]
  },
  {
   "cell_type": "code",
   "execution_count": 12,
   "metadata": {},
   "outputs": [
    {
     "data": {
      "text/html": [
       "<div><style>\n",
       ".dataframe > thead > tr,\n",
       ".dataframe > tbody > tr {\n",
       "  text-align: right;\n",
       "  white-space: pre-wrap;\n",
       "}\n",
       "</style>\n",
       "<small>shape: (16, 3)</small><table border=\"1\" class=\"dataframe\"><thead><tr><th>section_n_days_level</th><th>section_sum_pay_level</th><th>n</th></tr><tr><td>cat</td><td>cat</td><td>u32</td></tr></thead><tbody><tr><td>&quot;L&quot;</td><td>&quot;L&quot;</td><td>19674</td></tr><tr><td>&quot;L&quot;</td><td>&quot;M&quot;</td><td>4010</td></tr><tr><td>&quot;L&quot;</td><td>&quot;H&quot;</td><td>520</td></tr><tr><td>&quot;L&quot;</td><td>&quot;T&quot;</td><td>28</td></tr><tr><td>&quot;M&quot;</td><td>&quot;L&quot;</td><td>3130</td></tr><tr><td>&hellip;</td><td>&hellip;</td><td>&hellip;</td></tr><tr><td>&quot;H&quot;</td><td>&quot;T&quot;</td><td>150</td></tr><tr><td>&quot;T&quot;</td><td>&quot;L&quot;</td><td>63</td></tr><tr><td>&quot;T&quot;</td><td>&quot;M&quot;</td><td>255</td></tr><tr><td>&quot;T&quot;</td><td>&quot;H&quot;</td><td>250</td></tr><tr><td>&quot;T&quot;</td><td>&quot;T&quot;</td><td>236</td></tr></tbody></table></div>"
      ],
      "text/plain": [
       "shape: (16, 3)\n",
       "┌──────────────────────┬───────────────────────┬───────┐\n",
       "│ section_n_days_level ┆ section_sum_pay_level ┆ n     │\n",
       "│ ---                  ┆ ---                   ┆ ---   │\n",
       "│ cat                  ┆ cat                   ┆ u32   │\n",
       "╞══════════════════════╪═══════════════════════╪═══════╡\n",
       "│ L                    ┆ L                     ┆ 19674 │\n",
       "│ L                    ┆ M                     ┆ 4010  │\n",
       "│ L                    ┆ H                     ┆ 520   │\n",
       "│ L                    ┆ T                     ┆ 28    │\n",
       "│ M                    ┆ L                     ┆ 3130  │\n",
       "│ …                    ┆ …                     ┆ …     │\n",
       "│ H                    ┆ T                     ┆ 150   │\n",
       "│ T                    ┆ L                     ┆ 63    │\n",
       "│ T                    ┆ M                     ┆ 255   │\n",
       "│ T                    ┆ H                     ┆ 250   │\n",
       "│ T                    ┆ T                     ┆ 236   │\n",
       "└──────────────────────┴───────────────────────┴───────┘"
      ]
     },
     "execution_count": 12,
     "metadata": {},
     "output_type": "execute_result"
    }
   ],
   "source": [
    "tmp_tb = (\n",
    "    aggId\n",
    "    .filter(pl.col('section_value_index') != \"IDLE\")\n",
    "    .group_by(['section_n_days_level', 'section_sum_pay_level'])\n",
    "    .agg(n = pl.len())\n",
    "    .sort(by = ['section_n_days_level', 'section_sum_pay_level'])\n",
    ")\n",
    "tmp_tb"
   ]
  },
  {
   "cell_type": "markdown",
   "metadata": {},
   "source": [
    "---"
   ]
  },
  {
   "cell_type": "markdown",
   "metadata": {},
   "source": [
    "## __Use Case__"
   ]
  },
  {
   "cell_type": "code",
   "execution_count": 13,
   "metadata": {},
   "outputs": [
    {
     "data": {
      "text/html": [
       "<div><style>\n",
       ".dataframe > thead > tr,\n",
       ".dataframe > tbody > tr {\n",
       "  text-align: right;\n",
       "  white-space: pre-wrap;\n",
       "}\n",
       "</style>\n",
       "<small>shape: (1, 8)</small><table border=\"1\" class=\"dataframe\"><thead><tr><th>memberid</th><th>n_days</th><th>sum_pay</th><th>section_n_days</th><th>section_sum_pay</th><th>section_n_days_level</th><th>section_sum_pay_level</th><th>section_value_index</th></tr><tr><td>str</td><td>u32</td><td>i64</td><td>u32</td><td>i64</td><td>cat</td><td>cat</td><td>enum</td></tr></thead><tbody><tr><td>&quot;m0338871&quot;</td><td>10</td><td>33640</td><td>6</td><td>4000</td><td>&quot;T&quot;</td><td>&quot;L&quot;</td><td>&quot;T4&quot;</td></tr></tbody></table></div>"
      ],
      "text/plain": [
       "shape: (1, 8)\n",
       "┌──────────┬────────┬─────────┬─────────────┬─────────────┬─────────────┬─────────────┬────────────┐\n",
       "│ memberid ┆ n_days ┆ sum_pay ┆ section_n_d ┆ section_sum ┆ section_n_d ┆ section_sum ┆ section_va │\n",
       "│ ---      ┆ ---    ┆ ---     ┆ ays         ┆ _pay        ┆ ays_level   ┆ _pay_level  ┆ lue_index  │\n",
       "│ str      ┆ u32    ┆ i64     ┆ ---         ┆ ---         ┆ ---         ┆ ---         ┆ ---        │\n",
       "│          ┆        ┆         ┆ u32         ┆ i64         ┆ cat         ┆ cat         ┆ enum       │\n",
       "╞══════════╪════════╪═════════╪═════════════╪═════════════╪═════════════╪═════════════╪════════════╡\n",
       "│ m0338871 ┆ 10     ┆ 33640   ┆ 6           ┆ 4000        ┆ T           ┆ L           ┆ T4         │\n",
       "└──────────┴────────┴─────────┴─────────────┴─────────────┴─────────────┴─────────────┴────────────┘"
      ]
     },
     "execution_count": 13,
     "metadata": {},
     "output_type": "execute_result"
    }
   ],
   "source": [
    "# Frequency = \"Top\" and Monetary = \"Low\"\n",
    "(\n",
    "    aggId\n",
    "    .filter((pl.col('section_n_days_level') == \"T\") & (pl.col('section_sum_pay_level') == \"L\"))\n",
    "    .filter(pl.col('section_sum_pay') < 5000)\n",
    "    .sort(by = 'section_sum_pay', descending = True)\n",
    "    .head(n = 1)\n",
    ")"
   ]
  },
  {
   "cell_type": "code",
   "execution_count": 14,
   "metadata": {},
   "outputs": [
    {
     "data": {
      "text/html": [
       "<div><style>\n",
       ".dataframe > thead > tr,\n",
       ".dataframe > tbody > tr {\n",
       "  text-align: right;\n",
       "  white-space: pre-wrap;\n",
       "}\n",
       "</style>\n",
       "<small>shape: (1, 8)</small><table border=\"1\" class=\"dataframe\"><thead><tr><th>memberid</th><th>n_days</th><th>sum_pay</th><th>section_n_days</th><th>section_sum_pay</th><th>section_n_days_level</th><th>section_sum_pay_level</th><th>section_value_index</th></tr><tr><td>str</td><td>u32</td><td>i64</td><td>u32</td><td>i64</td><td>cat</td><td>cat</td><td>enum</td></tr></thead><tbody><tr><td>&quot;m0238155&quot;</td><td>2</td><td>86380</td><td>1</td><td>73040</td><td>&quot;L&quot;</td><td>&quot;H&quot;</td><td>&quot;T4&quot;</td></tr></tbody></table></div>"
      ],
      "text/plain": [
       "shape: (1, 8)\n",
       "┌──────────┬────────┬─────────┬─────────────┬─────────────┬─────────────┬─────────────┬────────────┐\n",
       "│ memberid ┆ n_days ┆ sum_pay ┆ section_n_d ┆ section_sum ┆ section_n_d ┆ section_sum ┆ section_va │\n",
       "│ ---      ┆ ---    ┆ ---     ┆ ays         ┆ _pay        ┆ ays_level   ┆ _pay_level  ┆ lue_index  │\n",
       "│ str      ┆ u32    ┆ i64     ┆ ---         ┆ ---         ┆ ---         ┆ ---         ┆ ---        │\n",
       "│          ┆        ┆         ┆ u32         ┆ i64         ┆ cat         ┆ cat         ┆ enum       │\n",
       "╞══════════╪════════╪═════════╪═════════════╪═════════════╪═════════════╪═════════════╪════════════╡\n",
       "│ m0238155 ┆ 2      ┆ 86380   ┆ 1           ┆ 73040       ┆ L           ┆ H           ┆ T4         │\n",
       "└──────────┴────────┴─────────┴─────────────┴─────────────┴─────────────┴─────────────┴────────────┘"
      ]
     },
     "execution_count": 14,
     "metadata": {},
     "output_type": "execute_result"
    }
   ],
   "source": [
    "# Frequency = \"Low\" and Monetary = \"Top\"\n",
    "(\n",
    "    aggId\n",
    "    .filter((pl.col('section_n_days_level') == \"L\") & (pl.col('section_sum_pay_level') == \"H\"))\n",
    "    .sort(by = 'section_sum_pay', descending = True)\n",
    "    .head(n = 1)\n",
    ")"
   ]
  }
 ],
 "metadata": {
  "kernelspec": {
   "display_name": ".venv",
   "language": "python",
   "name": "python3"
  },
  "language_info": {
   "codemirror_mode": {
    "name": "ipython",
    "version": 3
   },
   "file_extension": ".py",
   "mimetype": "text/x-python",
   "name": "python",
   "nbconvert_exporter": "python",
   "pygments_lexer": "ipython3",
   "version": "3.11.9"
  }
 },
 "nbformat": 4,
 "nbformat_minor": 2
}
