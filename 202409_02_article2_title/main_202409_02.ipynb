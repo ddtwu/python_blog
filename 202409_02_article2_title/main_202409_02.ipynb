{
 "cells": [
  {
   "cell_type": "code",
   "execution_count": null,
   "metadata": {},
   "outputs": [],
   "source": [
    "# g = sb.kdeplot(data = agg_uid, x = \"sum_pay\")\n",
    "# g.set_title(\"Distribution of total-payment by each member\")\n",
    "# g.set_xlabel(\"total-payment\")"
   ]
  },
  {
   "cell_type": "code",
   "execution_count": null,
   "metadata": {},
   "outputs": [],
   "source": [
    "# (\n",
    "#     agg_uid\n",
    "#     .group_by('thml_n_days')\n",
    "#     .agg(\n",
    "#         people = pl.len(),\n",
    "#         sum_days = pl.col('n_days').sum()\n",
    "#     )\n",
    "#     .sort(by = \"thml_n_days\")\n",
    "#     .with_columns(\n",
    "#         cum_people_prop = pl.col('people').cum_sum() / pl.col('people').sum(),\n",
    "#         cum_days_prop = pl.col('sum_days').cum_sum() / pl.col('sum_days').sum(),\n",
    "#     )\n",
    "# )"
   ]
  }
 ],
 "metadata": {
  "kernelspec": {
   "display_name": ".venv",
   "language": "python",
   "name": "python3"
  },
  "language_info": {
   "name": "python",
   "version": "3.11.9"
  }
 },
 "nbformat": 4,
 "nbformat_minor": 2
}
